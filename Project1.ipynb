{
 "cells": [
  {
   "cell_type": "code",
   "execution_count": 6,
   "id": "e6bc3403-c864-4df4-be03-4bc732398e48",
   "metadata": {},
   "outputs": [],
   "source": [
    "import pandas as pd"
   ]
  },
  {
   "cell_type": "markdown",
   "id": "3a3955d1-9904-4c1e-a373-9dc379400b0d",
   "metadata": {},
   "source": [
    "Task 1\n"
   ]
  },
  {
   "cell_type": "code",
   "execution_count": 10,
   "id": "68502491-edbd-4c37-a350-861a0d60beaa",
   "metadata": {},
   "outputs": [],
   "source": [
    "import matplotlib.pyplot as plt"
   ]
  },
  {
   "cell_type": "code",
   "execution_count": 14,
   "id": "b7f853b6-3bbb-49ad-bb02-62724792e316",
   "metadata": {},
   "outputs": [
    {
     "ename": "SyntaxError",
     "evalue": "invalid syntax (<ipython-input-14-f7bb1aed9d66>, line 3)",
     "output_type": "error",
     "traceback": [
      "\u001b[1;36m  File \u001b[1;32m\"<ipython-input-14-f7bb1aed9d66>\"\u001b[1;36m, line \u001b[1;32m3\u001b[0m\n\u001b[1;33m    Hourly Energy Consumption = [ 0.3125, 0.3125, 0.3125, 0.3125, 0.3125, 0.3125, 0.3125, 0.3125, 0.3125, 6.25, 6.25, 6.25, 6.25, 6.25, 6.25, 6.25, 6.25, 6.25, 6.25, 0.3125, 0.3125, 0.3125, 0.3125, 0.3125, 0.3125, 0.3125]\u001b[0m\n\u001b[1;37m           ^\u001b[0m\n\u001b[1;31mSyntaxError\u001b[0m\u001b[1;31m:\u001b[0m invalid syntax\n"
     ]
    }
   ],
   "source": [
    "time = [1, 2, 3, 4, 5, 6, 7, 8, 9, 10, 11, 12, 13, 14, 15, 16, 17, 18, 19, 20, 21, 22, 23, 24]\n",
    "Hourly Energy Consumption = [ 0.3125, 0.3125, 0.3125, 0.3125, 0.3125, 0.3125, 0.3125, 0.3125, 0.3125, 6.25, 6.25, 6.25, 6.25, 6.25, 6.25, 6.25, 6.25, 6.25, 6.25, 0.3125, 0.3125, 0.3125, 0.3125, 0.3125, 0.3125, 0.3125]\n",
    "\n",
    "plt.plot(time, Hourly Energy Consumption)\n",
    "plt.xlabel('Time (hr)')\n",
    "plt.ylabel('Hourly Consumption (MW)')\n",
    "plt.show()"
   ]
  },
  {
   "cell_type": "code",
   "execution_count": 5,
   "id": "b8444e40-33bd-4a91-8092-dc28fd63aa66",
   "metadata": {},
   "outputs": [
    {
     "data": {
      "text/plain": [
       "'C:\\\\Users\\\\souto'"
      ]
     },
     "execution_count": 5,
     "metadata": {},
     "output_type": "execute_result"
    }
   ],
   "source": [
    "%pwd"
   ]
  },
  {
   "cell_type": "code",
   "execution_count": 3,
   "id": "d82ba46e-c64a-4357-838a-d3899dafd4dc",
   "metadata": {},
   "outputs": [
    {
     "name": "stdout",
     "output_type": "stream",
     "text": [
      " Volume in drive C is Windows\n",
      " Volume Serial Number is 64F2-0E13\n",
      "\n",
      " Directory of C:\\Users\\souto\n",
      "\n",
      "10/04/2021  02:19 PM    <DIR>          .\n",
      "10/04/2021  02:19 PM    <DIR>          ..\n",
      "08/31/2021  12:24 AM    <DIR>          .conda\n",
      "08/28/2021  09:49 AM                25 .condarc\n",
      "08/28/2021  09:49 AM    <DIR>          .continuum\n",
      "10/04/2021  02:19 PM    <DIR>          .ipynb_checkpoints\n",
      "08/28/2021  02:10 PM    <DIR>          .ipython\n",
      "08/28/2021  03:15 PM    <DIR>          .jupyter\n",
      "09/02/2021  12:14 PM    <DIR>          .matplotlib\n",
      "08/12/2021  07:36 PM    <DIR>          3D Objects\n",
      "08/27/2021  07:49 PM    <DIR>          anaconda3\n",
      "08/23/2021  02:59 PM               151 BullseyeCoverageError.txt\n",
      "08/30/2021  01:50 PM                 0 ceve.py\n",
      "09/02/2021  12:09 PM    <DIR>          data\n",
      "10/04/2021  02:08 PM    <DIR>          Desktop\n",
      "10/04/2021  02:18 PM    <DIR>          Documents\n",
      "10/04/2021  02:17 PM    <DIR>          Downloads\n",
      "08/12/2021  07:42 PM    <DIR>          Dropbox\n",
      "08/12/2021  07:36 PM    <DIR>          Favorites\n",
      "09/02/2021  12:11 PM            49,082 gapminder_all.csv\n",
      "09/02/2021  12:11 PM             8,095 gapminder_gdp_africa.csv\n",
      "09/02/2021  12:11 PM             4,230 gapminder_gdp_americas.csv\n",
      "09/02/2021  12:11 PM             5,103 gapminder_gdp_asia.csv\n",
      "09/02/2021  12:11 PM             4,750 gapminder_gdp_europe.csv\n",
      "09/02/2021  12:11 PM               494 gapminder_gdp_oceania.csv\n",
      "09/21/2021  02:42 PM            75,750 Learning.ipynb\n",
      "08/12/2021  07:36 PM    <DIR>          Links\n",
      "08/12/2021  07:36 PM    <DIR>          Music\n",
      "08/12/2021  07:38 PM    <DIR>          OneDrive\n",
      "09/28/2021  01:28 PM    <DIR>          Pictures\n",
      "10/04/2021  02:19 PM    <DIR>          PROJECT 1\n",
      "10/04/2021  02:15 PM             1,291 Project1.ipynb\n",
      "10/04/2021  02:13 PM           246,078 radiation_houston_2020.csv\n",
      "08/12/2021  07:36 PM    <DIR>          Saved Games\n",
      "08/12/2021  08:37 PM    <DIR>          Searches\n",
      "10/04/2021  02:12 PM    <DIR>          Untitled Folder\n",
      "09/02/2021  11:30 AM                72 Untitled.ipynb\n",
      "08/28/2021  02:08 PM                 0 untitled.txt\n",
      "09/23/2021  02:59 PM             6,190 Untitled1.ipynb\n",
      "08/17/2021  08:08 AM    <DIR>          Videos\n",
      "09/10/2021  01:51 PM    <DIR>          Zotero\n",
      "              15 File(s)        401,311 bytes\n",
      "              26 Dir(s)  935,193,100,288 bytes free\n"
     ]
    }
   ],
   "source": [
    "%ls"
   ]
  },
  {
   "cell_type": "code",
   "execution_count": 8,
   "id": "5880e64a-4fb0-4b1a-af7c-f30a5f78deff",
   "metadata": {},
   "outputs": [
    {
     "data": {
      "text/html": [
       "<div>\n",
       "<style scoped>\n",
       "    .dataframe tbody tr th:only-of-type {\n",
       "        vertical-align: middle;\n",
       "    }\n",
       "\n",
       "    .dataframe tbody tr th {\n",
       "        vertical-align: top;\n",
       "    }\n",
       "\n",
       "    .dataframe thead th {\n",
       "        text-align: right;\n",
       "    }\n",
       "</style>\n",
       "<table border=\"1\" class=\"dataframe\">\n",
       "  <thead>\n",
       "    <tr style=\"text-align: right;\">\n",
       "      <th></th>\n",
       "      <th>time</th>\n",
       "      <th>radiation</th>\n",
       "    </tr>\n",
       "  </thead>\n",
       "  <tbody>\n",
       "    <tr>\n",
       "      <th>0</th>\n",
       "      <td>2020-01-01 00:00:00</td>\n",
       "      <td>38890.500</td>\n",
       "    </tr>\n",
       "    <tr>\n",
       "      <th>1</th>\n",
       "      <td>2020-01-01 01:00:00</td>\n",
       "      <td>0.125</td>\n",
       "    </tr>\n",
       "    <tr>\n",
       "      <th>2</th>\n",
       "      <td>2020-01-01 02:00:00</td>\n",
       "      <td>0.125</td>\n",
       "    </tr>\n",
       "    <tr>\n",
       "      <th>3</th>\n",
       "      <td>2020-01-01 03:00:00</td>\n",
       "      <td>0.125</td>\n",
       "    </tr>\n",
       "    <tr>\n",
       "      <th>4</th>\n",
       "      <td>2020-01-01 04:00:00</td>\n",
       "      <td>0.125</td>\n",
       "    </tr>\n",
       "    <tr>\n",
       "      <th>...</th>\n",
       "      <td>...</td>\n",
       "      <td>...</td>\n",
       "    </tr>\n",
       "    <tr>\n",
       "      <th>8779</th>\n",
       "      <td>2020-12-31 19:00:00</td>\n",
       "      <td>349506.620</td>\n",
       "    </tr>\n",
       "    <tr>\n",
       "      <th>8780</th>\n",
       "      <td>2020-12-31 20:00:00</td>\n",
       "      <td>284632.880</td>\n",
       "    </tr>\n",
       "    <tr>\n",
       "      <th>8781</th>\n",
       "      <td>2020-12-31 21:00:00</td>\n",
       "      <td>355255.620</td>\n",
       "    </tr>\n",
       "    <tr>\n",
       "      <th>8782</th>\n",
       "      <td>2020-12-31 22:00:00</td>\n",
       "      <td>314448.880</td>\n",
       "    </tr>\n",
       "    <tr>\n",
       "      <th>8783</th>\n",
       "      <td>2020-12-31 23:00:00</td>\n",
       "      <td>128789.375</td>\n",
       "    </tr>\n",
       "  </tbody>\n",
       "</table>\n",
       "<p>8784 rows × 2 columns</p>\n",
       "</div>"
      ],
      "text/plain": [
       "                     time   radiation\n",
       "0     2020-01-01 00:00:00   38890.500\n",
       "1     2020-01-01 01:00:00       0.125\n",
       "2     2020-01-01 02:00:00       0.125\n",
       "3     2020-01-01 03:00:00       0.125\n",
       "4     2020-01-01 04:00:00       0.125\n",
       "...                   ...         ...\n",
       "8779  2020-12-31 19:00:00  349506.620\n",
       "8780  2020-12-31 20:00:00  284632.880\n",
       "8781  2020-12-31 21:00:00  355255.620\n",
       "8782  2020-12-31 22:00:00  314448.880\n",
       "8783  2020-12-31 23:00:00  128789.375\n",
       "\n",
       "[8784 rows x 2 columns]"
      ]
     },
     "execution_count": 8,
     "metadata": {},
     "output_type": "execute_result"
    }
   ],
   "source": [
    "pd.read_csv(\"radiation_houston_2020.csv\")"
   ]
  },
  {
   "cell_type": "code",
   "execution_count": 9,
   "id": "95eec5d2-5bf8-41d6-833f-92613d103388",
   "metadata": {},
   "outputs": [
    {
     "data": {
      "text/plain": [
       "time\n",
       "time                    radiation\n",
       "2020-01-01 00:00:00       38890.5\n",
       "2020-01-01 01:00:00         0.125\n",
       "2020-01-01 02:00:00         0.125\n",
       "2020-01-01 03:00:00         0.125\n",
       "                          ...    \n",
       "2020-12-31 19:00:00     349506.62\n",
       "2020-12-31 20:00:00     284632.88\n",
       "2020-12-31 21:00:00     355255.62\n",
       "2020-12-31 22:00:00     314448.88\n",
       "2020-12-31 23:00:00    128789.375\n",
       "Name: radiation, Length: 8785, dtype: object"
      ]
     },
     "execution_count": 9,
     "metadata": {},
     "output_type": "execute_result"
    }
   ],
   "source": [
    "pd.read_csv(\"radiation_houston_2020.csv\", index_col=\"time\", names=[\"time\", \"radiation\"])[\"radiation\"]"
   ]
  },
  {
   "cell_type": "code",
   "execution_count": null,
   "id": "e619e1a5-19d1-4771-99b3-5813e247210e",
   "metadata": {},
   "outputs": [],
   "source": []
  },
  {
   "cell_type": "code",
   "execution_count": null,
   "id": "3bfc5445-789b-441c-9ff5-02a7702b9b31",
   "metadata": {},
   "outputs": [],
   "source": []
  }
 ],
 "metadata": {
  "kernelspec": {
   "display_name": "Python 3",
   "language": "python",
   "name": "python3"
  },
  "language_info": {
   "codemirror_mode": {
    "name": "ipython",
    "version": 3
   },
   "file_extension": ".py",
   "mimetype": "text/x-python",
   "name": "python",
   "nbconvert_exporter": "python",
   "pygments_lexer": "ipython3",
   "version": "3.8.8"
  }
 },
 "nbformat": 4,
 "nbformat_minor": 5
}
