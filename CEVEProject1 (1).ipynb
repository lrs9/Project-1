{
 "cells": [
  {
   "cell_type": "markdown",
   "id": "c70d6fb7-d936-4cf2-9773-7936603f4bdf",
   "metadata": {},
   "source": [
    "# Project 1\n",
    "##### By Leticia Souyo, Tina Nguyen, and Saara Orav"
   ]
  },
  {
   "cell_type": "markdown",
   "id": "0b67982a-5aa2-4450-ac6e-6dffb70d8694",
   "metadata": {},
   "source": [
    "### Task 1 "
   ]
  },
  {
   "cell_type": "markdown",
   "id": "1b65ef13-90bc-4d51-8855-dda7b3b0295b",
   "metadata": {},
   "source": [
    "Plot hourly energy consuption for a typical week"
   ]
  },
  {
   "cell_type": "code",
   "execution_count": 141,
   "id": "8f331c7d-a3cb-4e27-91bf-8d6df7f674b5",
   "metadata": {},
   "outputs": [],
   "source": [
    "import numpy as np"
   ]
  },
  {
   "cell_type": "code",
   "execution_count": 142,
   "id": "6feeb706-b976-4fef-9f59-993dedafcb5b",
   "metadata": {},
   "outputs": [
    {
     "data": {
      "text/plain": [
       "168"
      ]
     },
     "execution_count": 142,
     "metadata": {},
     "output_type": "execute_result"
    }
   ],
   "source": [
    "total_hours = 7* 24 # days times hours per day\n",
    "total_hours"
   ]
  },
  {
   "cell_type": "code",
   "execution_count": 143,
   "id": "d41d4e4f-6691-4d72-97a1-ea5872c98763",
   "metadata": {},
   "outputs": [
    {
     "name": "stdout",
     "output_type": "stream",
     "text": [
      "[  1   2   3   4   5   6   7   8   9  10  11  12  13  14  15  16  17  18\n",
      "  19  20  21  22  23  24  25  26  27  28  29  30  31  32  33  34  35  36\n",
      "  37  38  39  40  41  42  43  44  45  46  47  48  49  50  51  52  53  54\n",
      "  55  56  57  58  59  60  61  62  63  64  65  66  67  68  69  70  71  72\n",
      "  73  74  75  76  77  78  79  80  81  82  83  84  85  86  87  88  89  90\n",
      "  91  92  93  94  95  96  97  98  99 100 101 102 103 104 105 106 107 108\n",
      " 109 110 111 112 113 114 115 116 117 118 119 120 121 122 123 124 125 126\n",
      " 127 128 129 130 131 132 133 134 135 136 137 138 139 140 141 142 143 144\n",
      " 145 146 147 148 149 150 151 152 153 154 155 156 157 158 159 160 161 162\n",
      " 163 164 165 166 167 168]\n"
     ]
    }
   ],
   "source": [
    "hours = np.arange(1, total_hours+1)\n",
    "print(hours)"
   ]
  },
  {
   "cell_type": "code",
   "execution_count": 144,
   "id": "24511afe-8c78-4e58-aa91-8e2ec983a04b",
   "metadata": {},
   "outputs": [
    {
     "data": {
      "text/plain": [
       "array([ 1,  2,  3,  4,  5,  6,  7,  8,  9, 10, 11, 12, 13, 14, 15, 16, 17,\n",
       "       18, 19, 20, 21, 22, 23, 24,  1,  2,  3,  4,  5,  6,  7,  8,  9, 10,\n",
       "       11, 12, 13, 14, 15, 16, 17, 18, 19, 20, 21, 22, 23, 24,  1,  2,  3,\n",
       "        4,  5,  6,  7,  8,  9, 10, 11, 12, 13, 14, 15, 16, 17, 18, 19, 20,\n",
       "       21, 22, 23, 24,  1,  2,  3,  4,  5,  6,  7,  8,  9, 10, 11, 12, 13,\n",
       "       14, 15, 16, 17, 18, 19, 20, 21, 22, 23, 24,  1,  2,  3,  4,  5,  6,\n",
       "        7,  8,  9, 10, 11, 12, 13, 14, 15, 16, 17, 18, 19, 20, 21, 22, 23,\n",
       "       24,  1,  2,  3,  4,  5,  6,  7,  8,  9, 10, 11, 12, 13, 14, 15, 16,\n",
       "       17, 18, 19, 20, 21, 22, 23, 24,  1,  2,  3,  4,  5,  6,  7,  8,  9,\n",
       "       10, 11, 12, 13, 14, 15, 16, 17, 18, 19, 20, 21, 22, 23, 24],\n",
       "      dtype=int32)"
      ]
     },
     "execution_count": 144,
     "metadata": {},
     "output_type": "execute_result"
    }
   ],
   "source": [
    "time_of_day = (hours -1) % 24 +1\n",
    "time_of_day"
   ]
  },
  {
   "cell_type": "code",
   "execution_count": 145,
   "id": "35d350b2-abed-49bb-9261-a2e12265d53f",
   "metadata": {},
   "outputs": [
    {
     "data": {
      "text/plain": [
       "array([1., 1., 1., 1., 1., 1., 1., 1., 1., 1., 1., 1., 1., 1., 1., 1., 1.,\n",
       "       1., 1., 1., 1., 1., 1., 1., 2., 2., 2., 2., 2., 2., 2., 2., 2., 2.,\n",
       "       2., 2., 2., 2., 2., 2., 2., 2., 2., 2., 2., 2., 2., 2., 3., 3., 3.,\n",
       "       3., 3., 3., 3., 3., 3., 3., 3., 3., 3., 3., 3., 3., 3., 3., 3., 3.,\n",
       "       3., 3., 3., 3., 4., 4., 4., 4., 4., 4., 4., 4., 4., 4., 4., 4., 4.,\n",
       "       4., 4., 4., 4., 4., 4., 4., 4., 4., 4., 4., 5., 5., 5., 5., 5., 5.,\n",
       "       5., 5., 5., 5., 5., 5., 5., 5., 5., 5., 5., 5., 5., 5., 5., 5., 5.,\n",
       "       5., 6., 6., 6., 6., 6., 6., 6., 6., 6., 6., 6., 6., 6., 6., 6., 6.,\n",
       "       6., 6., 6., 6., 6., 6., 6., 6., 7., 7., 7., 7., 7., 7., 7., 7., 7.,\n",
       "       7., 7., 7., 7., 7., 7., 7., 7., 7., 7., 7., 7., 7., 7., 7.])"
      ]
     },
     "execution_count": 145,
     "metadata": {},
     "output_type": "execute_result"
    }
   ],
   "source": [
    "# First day is Monday\n",
    "day_of_week = np.ceil(hours / 24)\n",
    "day_of_week"
   ]
  },
  {
   "cell_type": "code",
   "execution_count": 146,
   "id": "08ec753f-5b22-4d5f-826e-20425c74cfd9",
   "metadata": {},
   "outputs": [
    {
     "data": {
      "text/plain": [
       "50"
      ]
     },
     "execution_count": 146,
     "metadata": {},
     "output_type": "execute_result"
    }
   ],
   "source": [
    "# Plot hourly energy consuption for a typical week\n",
    "\n",
    "def calc_power_consumption(day_of_week, hour_of_day):\n",
    "    if day_of_week <= 5:\n",
    "        if 9 <= hour_of_day <= 17:\n",
    "            power = 50\n",
    "        else:\n",
    "            power = 5\n",
    "    else:\n",
    "        power = 5\n",
    "    return power\n",
    "\n",
    "#calc_power_consumption(1,15)\n",
    "calc_power_consumption(5,12)\n"
   ]
  },
  {
   "cell_type": "code",
   "execution_count": 147,
   "id": "eb072bd9-826e-4458-b5a7-5cf240430251",
   "metadata": {},
   "outputs": [
    {
     "data": {
      "image/png": "[encoded data removed]",
      "text/plain": [
       "<Figure size 432x288 with 1 Axes>"
      ]
     },
     "metadata": {
      "needs_background": "light"
     },
     "output_type": "display_data"
    }
   ],
   "source": [
    "import matplotlib.pyplot as plt\n",
    "time = []\n",
    "for i in range(0,168): \n",
    "    time.append(i)\n",
    "energy = []\n",
    "for i in range(0,7):\n",
    "    for j in range(0,24):\n",
    "        p = calc_power_consumption(i,j)\n",
    "        energy.append(p)\n",
    "plt.plot(time, energy)\n",
    "plt.xlabel('Time (hr)')\n",
    "plt.ylabel('Hourly Energy Consumption (MW)')\n",
    "plt.title('Energy Consumption Per Hour for a Week')\n",
    "plt.show()"
   ]
  },
  {
   "cell_type": "markdown",
   "id": "b324c4ff-8f2d-400b-8539-9eb088bd8b4d",
   "metadata": {},
   "source": [
    "### Task 2"
   ]
  },
  {
   "cell_type": "markdown",
   "id": "eef98bc1-3174-46a1-b5f4-3fce78dbb40c",
   "metadata": {},
   "source": [
    "Estimate the annual energy consumption of CEVE101 Inc., and the associated expense if they purchase all their electricity from the grid."
   ]
  },
  {
   "cell_type": "code",
   "execution_count": 148,
   "id": "8436174c-0ed2-4698-b344-6ceec0704e0d",
   "metadata": {},
   "outputs": [
    {
     "name": "stdout",
     "output_type": "stream",
     "text": [
      "2080 peak hrs\n"
     ]
    }
   ],
   "source": [
    "#How to Calculate Total Peak Hours in a Year\n",
    "peak_hours_per_day= 8\n",
    "days_of_peak_hours= 5\n",
    "total_peak_hours_a_week = (days_of_peak_hours * peak_hours_per_day)\n",
    "\n",
    "weeks_in_a_year= 52\n",
    "total_peak_hours_a_year = (total_peak_hours_a_week * weeks_in_a_year)\n",
    "\n",
    "print(total_peak_hours_a_year, \"peak hrs\")"
   ]
  },
  {
   "cell_type": "code",
   "execution_count": 149,
   "id": "548bbc80-1f5c-4b0e-8ea5-b78085c03d27",
   "metadata": {},
   "outputs": [
    {
     "name": "stdout",
     "output_type": "stream",
     "text": [
      "6656 offpeak hrs\n"
     ]
    }
   ],
   "source": [
    "#How to Calculate Total Offpeak Hours in a Year\n",
    "weekday_days= 5\n",
    "weekend_days= 2\n",
    "offpeak_hours_per_weekday= (24-peak_hours_per_day)\n",
    "offpeak_hours_per_weekend_day= 24\n",
    "\n",
    "total_offpeak_hours_weekdays = ( weekday_days * offpeak_hours_per_weekday)\n",
    "total_offpeak_hours_weekend = ( weekend_days * offpeak_hours_per_weekend_day)\n",
    "\n",
    "total_offpeak_hours_a_week =(total_offpeak_hours_weekend + total_offpeak_hours_weekdays)\n",
    "\n",
    "weeks_in_a_year= 52\n",
    "total_offpeak_hours_a_year = (total_offpeak_hours_a_week * weeks_in_a_year)\n",
    "\n",
    "print(total_offpeak_hours_a_year, \"offpeak hrs\")"
   ]
  },
  {
   "cell_type": "code",
   "execution_count": 150,
   "id": "a0062391-4d5e-4f06-9793-312e84c52a63",
   "metadata": {
    "tags": []
   },
   "outputs": [
    {
     "name": "stdout",
     "output_type": "stream",
     "text": [
      "104000 MWh\n"
     ]
    }
   ],
   "source": [
    "#How to Estimate the Annual Energy Consumption of CEVE101 Inc. for Peak Hours\n",
    "energy_consumption_per_hour_during_peak= 50\n",
    "annual_energy_consumption_during_peak = (total_peak_hours_a_year * energy_consumption_per_hour_during_peak)\n",
    "\n",
    "print(annual_energy_consumption_during_peak, \"MWh\")"
   ]
  },
  {
   "cell_type": "code",
   "execution_count": 151,
   "id": "d74b66b4-5c04-458a-81c9-1734e5c14f96",
   "metadata": {},
   "outputs": [
    {
     "name": "stdout",
     "output_type": "stream",
     "text": [
      "33280 MWh\n"
     ]
    }
   ],
   "source": [
    "#How to Estimate the Annual Energy Consumption of CEVE101 Inc. for Offpeak Hours\n",
    "energy_consumption_per_hour_during_offpeak= 5\n",
    "annual_energy_consumption_during_offpeak = (total_offpeak_hours_a_year * energy_consumption_per_hour_during_offpeak)\n",
    "\n",
    "print(annual_energy_consumption_during_offpeak, \"MWh\")"
   ]
  },
  {
   "cell_type": "code",
   "execution_count": 152,
   "id": "ad3ee592-ad6b-4599-ab1e-daa700b9d30a",
   "metadata": {},
   "outputs": [
    {
     "name": "stdout",
     "output_type": "stream",
     "text": [
      "137280 MWh\n"
     ]
    }
   ],
   "source": [
    "#How to Estimate the Total Annual Energy Consumption of CEVE101 Inc.\n",
    "total_annual_energy_consumption = (annual_energy_consumption_during_peak + annual_energy_consumption_during_offpeak)\n",
    "\n",
    "print(total_annual_energy_consumption, \"MWh\")"
   ]
  },
  {
   "cell_type": "code",
   "execution_count": 153,
   "id": "86eca11f-0368-45c7-8fdc-dbb71716106b",
   "metadata": {},
   "outputs": [],
   "source": [
    "#How to Convert Peak Hour Cost from c/KWh to c/MWh\n",
    "cost_per_peak_hour_in_ckWh = 15\n",
    "cost_per_peak_hour_in_cMWh = cost_per_peak_hour_in_ckWh/ 1000"
   ]
  },
  {
   "cell_type": "code",
   "execution_count": 154,
   "id": "2f011669-64c3-4552-8228-353659fc1e59",
   "metadata": {},
   "outputs": [],
   "source": [
    "#How to Convert Offpeak Hour Cost from c/KWh to c/MWh\n",
    "cost_per_offpeak_hour_in_ckWh= 5\n",
    "cost_per_offpeak_hour_in_cMWh = cost_per_offpeak_hour_in_ckWh/1000"
   ]
  },
  {
   "cell_type": "code",
   "execution_count": 155,
   "id": "e501f96a-3482-4e26-b84d-849133023584",
   "metadata": {},
   "outputs": [
    {
     "name": "stdout",
     "output_type": "stream",
     "text": [
      "1560.0 c/MWh\n"
     ]
    }
   ],
   "source": [
    "#How to Calculate Total Annual Peak Hours Cost\n",
    "total_annual_peak_hour_cost = (cost_per_peak_hour_in_cMWh * annual_energy_consumption_during_peak)\n",
    "\n",
    "print(total_annual_peak_hour_cost, \"c/MWh\")"
   ]
  },
  {
   "cell_type": "code",
   "execution_count": 156,
   "id": "7c17fbdd-a556-42a3-9ed9-0ce5774b0982",
   "metadata": {},
   "outputs": [
    {
     "name": "stdout",
     "output_type": "stream",
     "text": [
      "166.4 c/MWh\n"
     ]
    }
   ],
   "source": [
    "#How to Calculate Total Offpeak Hours Cost\n",
    "total_annual_offpeak_hour_cost = (cost_per_offpeak_hour_in_cMWh * annual_energy_consumption_during_offpeak)\n",
    "\n",
    "print(total_annual_offpeak_hour_cost, \"c/MWh\")"
   ]
  },
  {
   "cell_type": "code",
   "execution_count": 157,
   "id": "072100ed-1617-4a90-a4eb-7d17d3bdb273",
   "metadata": {},
   "outputs": [
    {
     "name": "stdout",
     "output_type": "stream",
     "text": [
      "1726.4 c/MWh\n"
     ]
    }
   ],
   "source": [
    "#How to Calculate Annual Energy Consumption Cost\n",
    "total_annual_energy_consumption_cost = (total_annual_peak_hour_cost + total_annual_offpeak_hour_cost)\n",
    "\n",
    "print(total_annual_energy_consumption_cost, \"c/MWh\")"
   ]
  },
  {
   "cell_type": "code",
   "execution_count": 158,
   "id": "e52e2b9b-2d0a-4fbc-b07a-ff00c302887a",
   "metadata": {},
   "outputs": [
    {
     "name": "stdout",
     "output_type": "stream",
     "text": [
      "1726400.0 c/kwh\n"
     ]
    }
   ],
   "source": [
    "#Coversion to Kw\n",
    "total_annual_energy_consumption_cost_in_kw = (total_annual_energy_consumption_cost * 1000)\n",
    "print (total_annual_energy_consumption_cost_in_kw, \"c/kwh\")"
   ]
  },
  {
   "cell_type": "markdown",
   "id": "79323ce0-c0fd-4ae8-a983-34bc1b542a25",
   "metadata": {},
   "source": [
    "### Task 3"
   ]
  },
  {
   "cell_type": "markdown",
   "id": "7a7015d3-56e3-4b4c-9286-ca4c4b4bd242",
   "metadata": {},
   "source": [
    "Create a plot of this hourly data"
   ]
  },
  {
   "cell_type": "code",
   "execution_count": 159,
   "id": "aaee9c60-cc92-4d2a-b517-c318c9cc036f",
   "metadata": {},
   "outputs": [],
   "source": [
    "import matplotlib.pyplot as plt\n",
    "import pandas as pd"
   ]
  },
  {
   "cell_type": "code",
   "execution_count": 160,
   "id": "65ca5259-aef3-4ab5-801d-f32e8fd9ad6f",
   "metadata": {},
   "outputs": [
    {
     "data": {
      "text/plain": [
       "'C:\\\\Users\\\\souto'"
      ]
     },
     "execution_count": 160,
     "metadata": {},
     "output_type": "execute_result"
    }
   ],
   "source": [
    "%pwd"
   ]
  },
  {
   "cell_type": "code",
   "execution_count": 161,
   "id": "a0959e5f-e495-4b64-aa09-e505d4717e47",
   "metadata": {},
   "outputs": [
    {
     "name": "stdout",
     "output_type": "stream",
     "text": [
      " Volume in drive C is Windows\n",
      " Volume Serial Number is 64F2-0E13\n",
      "\n",
      " Directory of C:\\Users\\souto\n",
      "\n",
      "10/18/2021  03:24 PM    <DIR>          .\n",
      "10/18/2021  03:24 PM    <DIR>          ..\n",
      "08/31/2021  12:24 AM    <DIR>          .conda\n",
      "08/28/2021  09:49 AM                25 .condarc\n",
      "08/28/2021  09:49 AM    <DIR>          .continuum\n",
      "10/18/2021  03:10 PM    <DIR>          .ipynb_checkpoints\n",
      "08/28/2021  02:10 PM    <DIR>          .ipython\n",
      "08/28/2021  03:15 PM    <DIR>          .jupyter\n",
      "09/02/2021  12:14 PM    <DIR>          .matplotlib\n",
      "08/12/2021  07:36 PM    <DIR>          3D Objects\n",
      "08/27/2021  07:49 PM    <DIR>          anaconda3\n",
      "08/23/2021  02:59 PM               151 BullseyeCoverageError.txt\n",
      "08/30/2021  01:50 PM                 0 ceve.py\n",
      "10/18/2021  03:24 PM            82,228 CEVEProject1.ipynb\n",
      "10/18/2021  03:10 PM            97,962 CEVEProject1-Copy1.ipynb\n",
      "09/02/2021  12:09 PM    <DIR>          data\n",
      "10/04/2021  02:08 PM    <DIR>          Desktop\n",
      "10/04/2021  02:18 PM    <DIR>          Documents\n",
      "10/16/2021  11:42 PM    <DIR>          Downloads\n",
      "08/12/2021  07:42 PM    <DIR>          Dropbox\n",
      "08/12/2021  07:36 PM    <DIR>          Favorites\n",
      "09/02/2021  12:11 PM            49,082 gapminder_all.csv\n",
      "09/02/2021  12:11 PM             8,095 gapminder_gdp_africa.csv\n",
      "09/02/2021  12:11 PM             4,230 gapminder_gdp_americas.csv\n",
      "09/02/2021  12:11 PM             5,103 gapminder_gdp_asia.csv\n",
      "09/02/2021  12:11 PM             4,750 gapminder_gdp_europe.csv\n",
      "09/02/2021  12:11 PM               494 gapminder_gdp_oceania.csv\n",
      "09/21/2021  02:42 PM            75,750 Learning.ipynb\n",
      "08/12/2021  07:36 PM    <DIR>          Links\n",
      "10/12/2021  01:41 PM            10,305 masters-7-14.ipynb\n",
      "08/12/2021  07:36 PM    <DIR>          Music\n",
      "08/12/2021  07:38 PM    <DIR>          OneDrive\n",
      "09/28/2021  01:28 PM    <DIR>          Pictures\n",
      "10/04/2021  02:19 PM    <DIR>          PROJECT 1\n",
      "10/16/2021  11:42 PM            31,696 Project1.ipynb\n",
      "10/04/2021  02:13 PM           246,078 radiation_houston_2020.csv\n",
      "10/17/2021  11:12 AM            46,513 read_data (1).ipynb\n",
      "10/12/2021  01:33 PM            46,513 read_data (2).ipynb\n",
      "08/12/2021  07:36 PM    <DIR>          Saved Games\n",
      "08/12/2021  08:37 PM    <DIR>          Searches\n",
      "10/12/2021  01:42 PM           161,977 storage.ipynb\n",
      "10/12/2021  01:42 PM           162,076 storage-deficits.ipynb\n",
      "10/04/2021  02:12 PM    <DIR>          Untitled Folder\n",
      "10/12/2021  01:31 PM    <DIR>          Untitled Folder 1\n",
      "09/02/2021  11:30 AM                72 Untitled.ipynb\n",
      "08/28/2021  02:08 PM                 0 untitled.txt\n",
      "09/23/2021  02:59 PM             6,190 Untitled1.ipynb\n",
      "10/08/2021  07:44 PM               604 Untitled2.ipynb\n",
      "08/17/2021  08:08 AM    <DIR>          Videos\n",
      "09/10/2021  01:51 PM    <DIR>          Zotero\n",
      "              23 File(s)      1,039,894 bytes\n",
      "              27 Dir(s)  935,148,380,160 bytes free\n"
     ]
    }
   ],
   "source": [
    "%ls"
   ]
  },
  {
   "cell_type": "code",
   "execution_count": 162,
   "id": "bb0513ca-f055-4819-b2d4-13bf395ccf0f",
   "metadata": {},
   "outputs": [
    {
     "data": {
      "text/html": [
       "<div>\n",
       "<style scoped>\n",
       "    .dataframe tbody tr th:only-of-type {\n",
       "        vertical-align: middle;\n",
       "    }\n",
       "\n",
       "    .dataframe tbody tr th {\n",
       "        vertical-align: top;\n",
       "    }\n",
       "\n",
       "    .dataframe thead th {\n",
       "        text-align: right;\n",
       "    }\n",
       "</style>\n",
       "<table border=\"1\" class=\"dataframe\">\n",
       "  <thead>\n",
       "    <tr style=\"text-align: right;\">\n",
       "      <th></th>\n",
       "      <th>time</th>\n",
       "      <th>radiation</th>\n",
       "    </tr>\n",
       "  </thead>\n",
       "  <tbody>\n",
       "    <tr>\n",
       "      <th>0</th>\n",
       "      <td>2020-01-01 00:00:00</td>\n",
       "      <td>38890.500</td>\n",
       "    </tr>\n",
       "    <tr>\n",
       "      <th>1</th>\n",
       "      <td>2020-01-01 01:00:00</td>\n",
       "      <td>0.125</td>\n",
       "    </tr>\n",
       "    <tr>\n",
       "      <th>2</th>\n",
       "      <td>2020-01-01 02:00:00</td>\n",
       "      <td>0.125</td>\n",
       "    </tr>\n",
       "    <tr>\n",
       "      <th>3</th>\n",
       "      <td>2020-01-01 03:00:00</td>\n",
       "      <td>0.125</td>\n",
       "    </tr>\n",
       "    <tr>\n",
       "      <th>4</th>\n",
       "      <td>2020-01-01 04:00:00</td>\n",
       "      <td>0.125</td>\n",
       "    </tr>\n",
       "    <tr>\n",
       "      <th>...</th>\n",
       "      <td>...</td>\n",
       "      <td>...</td>\n",
       "    </tr>\n",
       "    <tr>\n",
       "      <th>8779</th>\n",
       "      <td>2020-12-31 19:00:00</td>\n",
       "      <td>349506.620</td>\n",
       "    </tr>\n",
       "    <tr>\n",
       "      <th>8780</th>\n",
       "      <td>2020-12-31 20:00:00</td>\n",
       "      <td>284632.880</td>\n",
       "    </tr>\n",
       "    <tr>\n",
       "      <th>8781</th>\n",
       "      <td>2020-12-31 21:00:00</td>\n",
       "      <td>355255.620</td>\n",
       "    </tr>\n",
       "    <tr>\n",
       "      <th>8782</th>\n",
       "      <td>2020-12-31 22:00:00</td>\n",
       "      <td>314448.880</td>\n",
       "    </tr>\n",
       "    <tr>\n",
       "      <th>8783</th>\n",
       "      <td>2020-12-31 23:00:00</td>\n",
       "      <td>128789.375</td>\n",
       "    </tr>\n",
       "  </tbody>\n",
       "</table>\n",
       "<p>8784 rows × 2 columns</p>\n",
       "</div>"
      ],
      "text/plain": [
       "                     time   radiation\n",
       "0     2020-01-01 00:00:00   38890.500\n",
       "1     2020-01-01 01:00:00       0.125\n",
       "2     2020-01-01 02:00:00       0.125\n",
       "3     2020-01-01 03:00:00       0.125\n",
       "4     2020-01-01 04:00:00       0.125\n",
       "...                   ...         ...\n",
       "8779  2020-12-31 19:00:00  349506.620\n",
       "8780  2020-12-31 20:00:00  284632.880\n",
       "8781  2020-12-31 21:00:00  355255.620\n",
       "8782  2020-12-31 22:00:00  314448.880\n",
       "8783  2020-12-31 23:00:00  128789.375\n",
       "\n",
       "[8784 rows x 2 columns]"
      ]
     },
     "execution_count": 162,
     "metadata": {},
     "output_type": "execute_result"
    }
   ],
   "source": [
    "radiation = pd.read_csv(\"radiation_houston_2020.csv\")\n",
    "radiation"
   ]
  },
  {
   "cell_type": "code",
   "execution_count": 163,
   "id": "c6c1f5b0-09be-439f-bcc5-0ff0f9467c63",
   "metadata": {},
   "outputs": [
    {
     "data": {
      "text/html": [
       "<div>\n",
       "<style scoped>\n",
       "    .dataframe tbody tr th:only-of-type {\n",
       "        vertical-align: middle;\n",
       "    }\n",
       "\n",
       "    .dataframe tbody tr th {\n",
       "        vertical-align: top;\n",
       "    }\n",
       "\n",
       "    .dataframe thead th {\n",
       "        text-align: right;\n",
       "    }\n",
       "</style>\n",
       "<table border=\"1\" class=\"dataframe\">\n",
       "  <thead>\n",
       "    <tr style=\"text-align: right;\">\n",
       "      <th></th>\n",
       "      <th>time</th>\n",
       "      <th>radiation</th>\n",
       "      <th>hour_of_day</th>\n",
       "      <th>day_of_week</th>\n",
       "      <th>day_of_year</th>\n",
       "    </tr>\n",
       "  </thead>\n",
       "  <tbody>\n",
       "    <tr>\n",
       "      <th>0</th>\n",
       "      <td>2020-01-01 00:00:00</td>\n",
       "      <td>38890.500</td>\n",
       "      <td>0</td>\n",
       "      <td>2</td>\n",
       "      <td>1</td>\n",
       "    </tr>\n",
       "    <tr>\n",
       "      <th>1</th>\n",
       "      <td>2020-01-01 01:00:00</td>\n",
       "      <td>0.125</td>\n",
       "      <td>1</td>\n",
       "      <td>2</td>\n",
       "      <td>1</td>\n",
       "    </tr>\n",
       "    <tr>\n",
       "      <th>2</th>\n",
       "      <td>2020-01-01 02:00:00</td>\n",
       "      <td>0.125</td>\n",
       "      <td>2</td>\n",
       "      <td>2</td>\n",
       "      <td>1</td>\n",
       "    </tr>\n",
       "    <tr>\n",
       "      <th>3</th>\n",
       "      <td>2020-01-01 03:00:00</td>\n",
       "      <td>0.125</td>\n",
       "      <td>3</td>\n",
       "      <td>2</td>\n",
       "      <td>1</td>\n",
       "    </tr>\n",
       "    <tr>\n",
       "      <th>4</th>\n",
       "      <td>2020-01-01 04:00:00</td>\n",
       "      <td>0.125</td>\n",
       "      <td>4</td>\n",
       "      <td>2</td>\n",
       "      <td>1</td>\n",
       "    </tr>\n",
       "    <tr>\n",
       "      <th>...</th>\n",
       "      <td>...</td>\n",
       "      <td>...</td>\n",
       "      <td>...</td>\n",
       "      <td>...</td>\n",
       "      <td>...</td>\n",
       "    </tr>\n",
       "    <tr>\n",
       "      <th>8779</th>\n",
       "      <td>2020-12-31 19:00:00</td>\n",
       "      <td>349506.620</td>\n",
       "      <td>19</td>\n",
       "      <td>3</td>\n",
       "      <td>366</td>\n",
       "    </tr>\n",
       "    <tr>\n",
       "      <th>8780</th>\n",
       "      <td>2020-12-31 20:00:00</td>\n",
       "      <td>284632.880</td>\n",
       "      <td>20</td>\n",
       "      <td>3</td>\n",
       "      <td>366</td>\n",
       "    </tr>\n",
       "    <tr>\n",
       "      <th>8781</th>\n",
       "      <td>2020-12-31 21:00:00</td>\n",
       "      <td>355255.620</td>\n",
       "      <td>21</td>\n",
       "      <td>3</td>\n",
       "      <td>366</td>\n",
       "    </tr>\n",
       "    <tr>\n",
       "      <th>8782</th>\n",
       "      <td>2020-12-31 22:00:00</td>\n",
       "      <td>314448.880</td>\n",
       "      <td>22</td>\n",
       "      <td>3</td>\n",
       "      <td>366</td>\n",
       "    </tr>\n",
       "    <tr>\n",
       "      <th>8783</th>\n",
       "      <td>2020-12-31 23:00:00</td>\n",
       "      <td>128789.375</td>\n",
       "      <td>23</td>\n",
       "      <td>3</td>\n",
       "      <td>366</td>\n",
       "    </tr>\n",
       "  </tbody>\n",
       "</table>\n",
       "<p>8784 rows × 5 columns</p>\n",
       "</div>"
      ],
      "text/plain": [
       "                    time   radiation  hour_of_day  day_of_week  day_of_year\n",
       "0    2020-01-01 00:00:00   38890.500            0            2            1\n",
       "1    2020-01-01 01:00:00       0.125            1            2            1\n",
       "2    2020-01-01 02:00:00       0.125            2            2            1\n",
       "3    2020-01-01 03:00:00       0.125            3            2            1\n",
       "4    2020-01-01 04:00:00       0.125            4            2            1\n",
       "...                  ...         ...          ...          ...          ...\n",
       "8779 2020-12-31 19:00:00  349506.620           19            3          366\n",
       "8780 2020-12-31 20:00:00  284632.880           20            3          366\n",
       "8781 2020-12-31 21:00:00  355255.620           21            3          366\n",
       "8782 2020-12-31 22:00:00  314448.880           22            3          366\n",
       "8783 2020-12-31 23:00:00  128789.375           23            3          366\n",
       "\n",
       "[8784 rows x 5 columns]"
      ]
     },
     "execution_count": 163,
     "metadata": {},
     "output_type": "execute_result"
    }
   ],
   "source": [
    "radiation[\"time\"] = pd.to_datetime(radiation[\"time\"])\n",
    "radiation[\"hour_of_day\"] = radiation[\"time\"].dt.hour\n",
    "radiation[\"day_of_week\"] = radiation[\"time\"].dt.dayofweek\n",
    "radiation[\"day_of_year\"] = radiation[\"time\"].dt.dayofyear\n",
    "radiation"
   ]
  },
  {
   "cell_type": "code",
   "execution_count": 164,
   "id": "cb92445a-7101-4f69-811c-052622a660ec",
   "metadata": {},
   "outputs": [
    {
     "data": {
      "image/png": "[encoded data removed]",
      "text/plain": [
       "<Figure size 432x288 with 1 Axes>"
      ]
     },
     "metadata": {
      "needs_background": "light"
     },
     "output_type": "display_data"
    }
   ],
   "source": [
    "radiation.plot(x=\"time\", y=\"radiation\")\n",
    "plt.xlabel('Time (hr)')\n",
    "plt.ylabel('Radiation (kWh/m^2))')\n",
    "plt.title('Radiation Hourly for a Year')\n",
    "plt.show()"
   ]
  },
  {
   "cell_type": "markdown",
   "id": "870ec664-3d5b-4fd3-b928-fd8a674cde45",
   "metadata": {},
   "source": [
    "### Task 4"
   ]
  },
  {
   "cell_type": "markdown",
   "id": "a2669444-2d04-403e-8148-f084d66a1b76",
   "metadata": {},
   "source": [
    "calculate the total average (across all hours) production of electricity that couldbe achieved by solar production"
   ]
  },
  {
   "cell_type": "code",
   "execution_count": 165,
   "id": "37fcacb4-438d-413a-bd98-735ce25d2cc7",
   "metadata": {
    "tags": [
     "First",
     "Answer",
     "Cobverts",
     "Radiation",
     "in",
     "Electrcity",
     "then",
     "gets",
     "average"
    ]
   },
   "outputs": [
    {
     "name": "stdout",
     "output_type": "stream",
     "text": [
      "59256464178149.99 kWh\n"
     ]
    }
   ],
   "source": [
    "#Convert Radiation (kWh/m^2) into ELectricity in kWh\n",
    "\n",
    "total_radiation = radiation[\"radiation\"].sum() \n",
    "total_metersqrted_of_panels = 10000\n",
    "Total_Electricity= total_radiation * 10000\n",
    "\n",
    "print(Total_Electricity, \"kWh\")"
   ]
  },
  {
   "cell_type": "code",
   "execution_count": 190,
   "id": "deed1407-56dd-49b7-aa7f-a506a51a3bfc",
   "metadata": {},
   "outputs": [
    {
     "name": "stdout",
     "output_type": "stream",
     "text": [
      "767982.0677300288 kW\n"
     ]
    }
   ],
   "source": [
    "#How to Calculate the Average per Hour\n",
    "Hours_per_year = 8784\n",
    "Average_Electricity_per_Hour = (Total_Electricity / 8784)\n",
    "print(Average_Electricity_per_Hour, \"kW\")"
   ]
  },
  {
   "cell_type": "code",
   "execution_count": 205,
   "id": "0ae9bf62-b603-4c3b-8bc6-8a0839bdaa0a",
   "metadata": {},
   "outputs": [
    {
     "data": {
      "text/plain": [
       "153596.41354600576"
      ]
     },
     "execution_count": 205,
     "metadata": {},
     "output_type": "execute_result"
    }
   ],
   "source": [
    "Average_Electricity_Efficency = Average_Electricity_per_Hour *.2 \n",
    "Average_Electricity_Efficency"
   ]
  },
  {
   "cell_type": "code",
   "execution_count": 167,
   "id": "06ef99cd-a89a-473d-9c13-49e624c811ca",
   "metadata": {},
   "outputs": [],
   "source": [
    "#2020-01-01 = Wednesday = 2\n",
    "#2020-12-31 = Thursday = 3\n",
    "#M-0 T-1 W-2 TH- 3 F-4 St- 5 Sun- 6\n"
   ]
  },
  {
   "cell_type": "code",
   "execution_count": 192,
   "id": "5dfaed8a-44fe-4b37-83d4-34ae82d65be8",
   "metadata": {},
   "outputs": [
    {
     "data": {
      "text/html": [
       "<div>\n",
       "<style scoped>\n",
       "    .dataframe tbody tr th:only-of-type {\n",
       "        vertical-align: middle;\n",
       "    }\n",
       "\n",
       "    .dataframe tbody tr th {\n",
       "        vertical-align: top;\n",
       "    }\n",
       "\n",
       "    .dataframe thead th {\n",
       "        text-align: right;\n",
       "    }\n",
       "</style>\n",
       "<table border=\"1\" class=\"dataframe\">\n",
       "  <thead>\n",
       "    <tr style=\"text-align: right;\">\n",
       "      <th></th>\n",
       "      <th>time</th>\n",
       "      <th>radiation</th>\n",
       "      <th>hour_of_day</th>\n",
       "      <th>day_of_week</th>\n",
       "      <th>day_of_year</th>\n",
       "      <th>power_consumption</th>\n",
       "    </tr>\n",
       "  </thead>\n",
       "  <tbody>\n",
       "    <tr>\n",
       "      <th>0</th>\n",
       "      <td>2020-01-01 00:00:00</td>\n",
       "      <td>38890.500</td>\n",
       "      <td>0</td>\n",
       "      <td>2</td>\n",
       "      <td>1</td>\n",
       "      <td>5</td>\n",
       "    </tr>\n",
       "    <tr>\n",
       "      <th>1</th>\n",
       "      <td>2020-01-01 01:00:00</td>\n",
       "      <td>0.125</td>\n",
       "      <td>1</td>\n",
       "      <td>2</td>\n",
       "      <td>1</td>\n",
       "      <td>5</td>\n",
       "    </tr>\n",
       "    <tr>\n",
       "      <th>2</th>\n",
       "      <td>2020-01-01 02:00:00</td>\n",
       "      <td>0.125</td>\n",
       "      <td>2</td>\n",
       "      <td>2</td>\n",
       "      <td>1</td>\n",
       "      <td>5</td>\n",
       "    </tr>\n",
       "    <tr>\n",
       "      <th>3</th>\n",
       "      <td>2020-01-01 03:00:00</td>\n",
       "      <td>0.125</td>\n",
       "      <td>3</td>\n",
       "      <td>2</td>\n",
       "      <td>1</td>\n",
       "      <td>5</td>\n",
       "    </tr>\n",
       "    <tr>\n",
       "      <th>4</th>\n",
       "      <td>2020-01-01 04:00:00</td>\n",
       "      <td>0.125</td>\n",
       "      <td>4</td>\n",
       "      <td>2</td>\n",
       "      <td>1</td>\n",
       "      <td>5</td>\n",
       "    </tr>\n",
       "    <tr>\n",
       "      <th>...</th>\n",
       "      <td>...</td>\n",
       "      <td>...</td>\n",
       "      <td>...</td>\n",
       "      <td>...</td>\n",
       "      <td>...</td>\n",
       "      <td>...</td>\n",
       "    </tr>\n",
       "    <tr>\n",
       "      <th>8779</th>\n",
       "      <td>2020-12-31 19:00:00</td>\n",
       "      <td>349506.620</td>\n",
       "      <td>19</td>\n",
       "      <td>3</td>\n",
       "      <td>366</td>\n",
       "      <td>5</td>\n",
       "    </tr>\n",
       "    <tr>\n",
       "      <th>8780</th>\n",
       "      <td>2020-12-31 20:00:00</td>\n",
       "      <td>284632.880</td>\n",
       "      <td>20</td>\n",
       "      <td>3</td>\n",
       "      <td>366</td>\n",
       "      <td>5</td>\n",
       "    </tr>\n",
       "    <tr>\n",
       "      <th>8781</th>\n",
       "      <td>2020-12-31 21:00:00</td>\n",
       "      <td>355255.620</td>\n",
       "      <td>21</td>\n",
       "      <td>3</td>\n",
       "      <td>366</td>\n",
       "      <td>5</td>\n",
       "    </tr>\n",
       "    <tr>\n",
       "      <th>8782</th>\n",
       "      <td>2020-12-31 22:00:00</td>\n",
       "      <td>314448.880</td>\n",
       "      <td>22</td>\n",
       "      <td>3</td>\n",
       "      <td>366</td>\n",
       "      <td>5</td>\n",
       "    </tr>\n",
       "    <tr>\n",
       "      <th>8783</th>\n",
       "      <td>2020-12-31 23:00:00</td>\n",
       "      <td>128789.375</td>\n",
       "      <td>23</td>\n",
       "      <td>3</td>\n",
       "      <td>366</td>\n",
       "      <td>5</td>\n",
       "    </tr>\n",
       "  </tbody>\n",
       "</table>\n",
       "<p>8784 rows × 6 columns</p>\n",
       "</div>"
      ],
      "text/plain": [
       "                    time   radiation  hour_of_day  day_of_week  day_of_year  \\\n",
       "0    2020-01-01 00:00:00   38890.500            0            2            1   \n",
       "1    2020-01-01 01:00:00       0.125            1            2            1   \n",
       "2    2020-01-01 02:00:00       0.125            2            2            1   \n",
       "3    2020-01-01 03:00:00       0.125            3            2            1   \n",
       "4    2020-01-01 04:00:00       0.125            4            2            1   \n",
       "...                  ...         ...          ...          ...          ...   \n",
       "8779 2020-12-31 19:00:00  349506.620           19            3          366   \n",
       "8780 2020-12-31 20:00:00  284632.880           20            3          366   \n",
       "8781 2020-12-31 21:00:00  355255.620           21            3          366   \n",
       "8782 2020-12-31 22:00:00  314448.880           22            3          366   \n",
       "8783 2020-12-31 23:00:00  128789.375           23            3          366   \n",
       "\n",
       "     power_consumption  \n",
       "0                    5  \n",
       "1                    5  \n",
       "2                    5  \n",
       "3                    5  \n",
       "4                    5  \n",
       "...                ...  \n",
       "8779                 5  \n",
       "8780                 5  \n",
       "8781                 5  \n",
       "8782                 5  \n",
       "8783                 5  \n",
       "\n",
       "[8784 rows x 6 columns]"
      ]
     },
     "execution_count": 192,
     "metadata": {},
     "output_type": "execute_result"
    }
   ],
   "source": [
    "def calc_power_consumption(day_of_week, hour_of_day):\n",
    "    if day_of_week <= 4:\n",
    "        if 10 <= hour_of_day <= 18:\n",
    "            power = 50\n",
    "        else:\n",
    "            power = 5\n",
    "    else:\n",
    "        power = 5\n",
    "    return power\n",
    "\n",
    "power_consumption = (pd.NA * radiation[\"day_of_week\"] )  # initialize a blank value; pd.NA is similar to np.nan\n",
    "\n",
    "for i in range(len(power_consumption)):  # go through each row\n",
    "    power_consumption[i] = calc_power_consumption (\n",
    "        radiation[\"day_of_week\"][i], radiation[\"hour_of_day\"][i]\n",
    "    )\n",
    "\n",
    "radiation[\"power_consumption\"] = power_consumption\n",
    "radiation\n"
   ]
  },
  {
   "cell_type": "code",
   "execution_count": 169,
   "id": "b64c99b7-2a6e-4df0-a95e-2f0a0d8cb204",
   "metadata": {},
   "outputs": [
    {
     "data": {
      "text/html": [
       "<div>\n",
       "<style scoped>\n",
       "    .dataframe tbody tr th:only-of-type {\n",
       "        vertical-align: middle;\n",
       "    }\n",
       "\n",
       "    .dataframe tbody tr th {\n",
       "        vertical-align: top;\n",
       "    }\n",
       "\n",
       "    .dataframe thead th {\n",
       "        text-align: right;\n",
       "    }\n",
       "</style>\n",
       "<table border=\"1\" class=\"dataframe\">\n",
       "  <thead>\n",
       "    <tr style=\"text-align: right;\">\n",
       "      <th></th>\n",
       "      <th>radiation</th>\n",
       "      <th>hour_of_day</th>\n",
       "      <th>day_of_week</th>\n",
       "      <th>day_of_year</th>\n",
       "      <th>power_consumption</th>\n",
       "    </tr>\n",
       "    <tr>\n",
       "      <th>time</th>\n",
       "      <th></th>\n",
       "      <th></th>\n",
       "      <th></th>\n",
       "      <th></th>\n",
       "      <th></th>\n",
       "    </tr>\n",
       "  </thead>\n",
       "  <tbody>\n",
       "    <tr>\n",
       "      <th>2020-01-06 00:00:00</th>\n",
       "      <td>63859.250</td>\n",
       "      <td>0</td>\n",
       "      <td>0</td>\n",
       "      <td>6</td>\n",
       "      <td>5</td>\n",
       "    </tr>\n",
       "    <tr>\n",
       "      <th>2020-01-06 01:00:00</th>\n",
       "      <td>0.125</td>\n",
       "      <td>1</td>\n",
       "      <td>0</td>\n",
       "      <td>6</td>\n",
       "      <td>5</td>\n",
       "    </tr>\n",
       "    <tr>\n",
       "      <th>2020-01-06 02:00:00</th>\n",
       "      <td>0.125</td>\n",
       "      <td>2</td>\n",
       "      <td>0</td>\n",
       "      <td>6</td>\n",
       "      <td>5</td>\n",
       "    </tr>\n",
       "    <tr>\n",
       "      <th>2020-01-06 03:00:00</th>\n",
       "      <td>0.125</td>\n",
       "      <td>3</td>\n",
       "      <td>0</td>\n",
       "      <td>6</td>\n",
       "      <td>5</td>\n",
       "    </tr>\n",
       "    <tr>\n",
       "      <th>2020-01-06 04:00:00</th>\n",
       "      <td>0.125</td>\n",
       "      <td>4</td>\n",
       "      <td>0</td>\n",
       "      <td>6</td>\n",
       "      <td>5</td>\n",
       "    </tr>\n",
       "    <tr>\n",
       "      <th>...</th>\n",
       "      <td>...</td>\n",
       "      <td>...</td>\n",
       "      <td>...</td>\n",
       "      <td>...</td>\n",
       "      <td>...</td>\n",
       "    </tr>\n",
       "    <tr>\n",
       "      <th>2020-01-12 19:00:00</th>\n",
       "      <td>2273004.200</td>\n",
       "      <td>19</td>\n",
       "      <td>6</td>\n",
       "      <td>12</td>\n",
       "      <td>5</td>\n",
       "    </tr>\n",
       "    <tr>\n",
       "      <th>2020-01-12 20:00:00</th>\n",
       "      <td>2102901.000</td>\n",
       "      <td>20</td>\n",
       "      <td>6</td>\n",
       "      <td>12</td>\n",
       "      <td>5</td>\n",
       "    </tr>\n",
       "    <tr>\n",
       "      <th>2020-01-12 21:00:00</th>\n",
       "      <td>1644163.100</td>\n",
       "      <td>21</td>\n",
       "      <td>6</td>\n",
       "      <td>12</td>\n",
       "      <td>5</td>\n",
       "    </tr>\n",
       "    <tr>\n",
       "      <th>2020-01-12 22:00:00</th>\n",
       "      <td>1214452.200</td>\n",
       "      <td>22</td>\n",
       "      <td>6</td>\n",
       "      <td>12</td>\n",
       "      <td>5</td>\n",
       "    </tr>\n",
       "    <tr>\n",
       "      <th>2020-01-12 23:00:00</th>\n",
       "      <td>604718.000</td>\n",
       "      <td>23</td>\n",
       "      <td>6</td>\n",
       "      <td>12</td>\n",
       "      <td>5</td>\n",
       "    </tr>\n",
       "  </tbody>\n",
       "</table>\n",
       "<p>168 rows × 5 columns</p>\n",
       "</div>"
      ],
      "text/plain": [
       "                       radiation  hour_of_day  day_of_week  day_of_year  \\\n",
       "time                                                                      \n",
       "2020-01-06 00:00:00    63859.250            0            0            6   \n",
       "2020-01-06 01:00:00        0.125            1            0            6   \n",
       "2020-01-06 02:00:00        0.125            2            0            6   \n",
       "2020-01-06 03:00:00        0.125            3            0            6   \n",
       "2020-01-06 04:00:00        0.125            4            0            6   \n",
       "...                          ...          ...          ...          ...   \n",
       "2020-01-12 19:00:00  2273004.200           19            6           12   \n",
       "2020-01-12 20:00:00  2102901.000           20            6           12   \n",
       "2020-01-12 21:00:00  1644163.100           21            6           12   \n",
       "2020-01-12 22:00:00  1214452.200           22            6           12   \n",
       "2020-01-12 23:00:00   604718.000           23            6           12   \n",
       "\n",
       "                    power_consumption  \n",
       "time                                   \n",
       "2020-01-06 00:00:00                 5  \n",
       "2020-01-06 01:00:00                 5  \n",
       "2020-01-06 02:00:00                 5  \n",
       "2020-01-06 03:00:00                 5  \n",
       "2020-01-06 04:00:00                 5  \n",
       "...                               ...  \n",
       "2020-01-12 19:00:00                 5  \n",
       "2020-01-12 20:00:00                 5  \n",
       "2020-01-12 21:00:00                 5  \n",
       "2020-01-12 22:00:00                 5  \n",
       "2020-01-12 23:00:00                 5  \n",
       "\n",
       "[168 rows x 5 columns]"
      ]
     },
     "execution_count": 169,
     "metadata": {},
     "output_type": "execute_result"
    }
   ],
   "source": [
    "radiation.set_index(\"time\").loc[\"2020-01-06\":\"2020-01-12\"]"
   ]
  },
  {
   "cell_type": "code",
   "execution_count": 170,
   "id": "de99233a-6784-428f-9bb3-2b19ec42dced",
   "metadata": {},
   "outputs": [],
   "source": [
    "##A lot of error becasue 2020 was a leap year"
   ]
  },
  {
   "cell_type": "code",
   "execution_count": 195,
   "id": "89fa3155-3edf-4a4c-be95-275ad160e59a",
   "metadata": {
    "tags": [
     "Uses",
     "power",
     "consumption",
     "code",
     "to",
     "get",
     "average"
    ]
   },
   "outputs": [
    {
     "name": "stdout",
     "output_type": "stream",
     "text": [
      "17081.86268928612 kW\n"
     ]
    }
   ],
   "source": [
    "#f power consumption is the electricity \n",
    "average_power_consumption = radiation[\"power_consumption\"].sum() / 8783\n",
    "average_power_consumption_in_kW = (average_power_consumption * 1000)\n",
    "print(average_power_consumption_in_kW, \"kW\")"
   ]
  },
  {
   "cell_type": "code",
   "execution_count": 172,
   "id": "6b0d5aae-5dc1-4097-acf1-3f975ec0a6c1",
   "metadata": {},
   "outputs": [
    {
     "name": "stdout",
     "output_type": "stream",
     "text": [
      "5925646417.815\n"
     ]
    }
   ],
   "source": [
    "total_radiation = radiation[\"radiation\"].sum()\n",
    "print(total_radiation)"
   ]
  },
  {
   "cell_type": "code",
   "execution_count": 173,
   "id": "bd544306-a245-4684-aa6d-797d9279223d",
   "metadata": {
    "tags": [
     "Calucates",
     "average",
     "directly",
     "from",
     "radiation"
    ]
   },
   "outputs": [],
   "source": [
    "#Calculate the Average \n",
    "Average_radiation = (total_radiation / 8784)"
   ]
  },
  {
   "cell_type": "code",
   "execution_count": 174,
   "id": "912a28bf-e822-4943-bd94-c95b0eab965a",
   "metadata": {},
   "outputs": [],
   "source": [
    "#To Calculate the Average Electricity ProductioN\n",
    "total_metersqrted_of_panels = 10000\n",
    "Total_Electricity= Average_radiation * 10000"
   ]
  },
  {
   "cell_type": "code",
   "execution_count": 175,
   "id": "3b5708eb-e75e-402a-bc21-2488e2553acd",
   "metadata": {},
   "outputs": [
    {
     "name": "stdout",
     "output_type": "stream",
     "text": [
      "1349190896.5881147 kwh\n"
     ]
    }
   ],
   "source": [
    "#Calcuate the Actual efficency (20%)\n",
    "Actual_efficency = (Total_Electricity *.2)\n",
    "print(Actual_efficency, \"kW\")"
   ]
  },
  {
   "cell_type": "markdown",
   "id": "b80a1428-9f30-4849-be56-d29d7763dc1e",
   "metadata": {
    "slideshow": {
     "slide_type": "slide"
    },
    "tags": []
   },
   "source": [
    "### Task 5"
   ]
  },
  {
   "cell_type": "markdown",
   "id": "8e044bf0-a4cf-4db8-9018-4627b4af12de",
   "metadata": {},
   "source": [
    "Calculate the capital and operating expenses under alternative 1A over 20 years."
   ]
  },
  {
   "cell_type": "code",
   "execution_count": 176,
   "id": "806d5fa0-11f3-4dcf-be27-5ad67cd750ee",
   "metadata": {},
   "outputs": [
    {
     "name": "stdout",
     "output_type": "stream",
     "text": [
      "400000 $\n"
     ]
    }
   ],
   "source": [
    "#Cost of Installment of 8000 m^2 of Solar Panels \n",
    "area_of_solar_panels = 8000\n",
    "cost_of_installation = 50\n",
    "\n",
    "total_cost_of_installation = (area_of_solar_panels * cost_of_installation)\n",
    "print(total_cost_of_installation, \"$\")"
   ]
  },
  {
   "cell_type": "code",
   "execution_count": 177,
   "id": "e54cf256-7a46-44f8-8ee5-64e7be820cea",
   "metadata": {},
   "outputs": [
    {
     "name": "stdout",
     "output_type": "stream",
     "text": [
      "17264.0 $/kWh\n"
     ]
    }
   ],
   "source": [
    "#Weekly Operationg Cost Using Data from Task 2\n",
    "conversion_to_ckWh =  (total_annual_energy_consumption_cost * 1000)\n",
    "weekly_operating_cost_in_dollars = (conversion_to_ckWh / 100)\n",
    "\n",
    "print(weekly_operating_cost_in_dollars, \"$/kWh\")"
   ]
  },
  {
   "cell_type": "code",
   "execution_count": 178,
   "id": "2a4a0322-1811-4340-9f5a-b03994dcde35",
   "metadata": {},
   "outputs": [
    {
     "name": "stdout",
     "output_type": "stream",
     "text": [
      "17954560.0 $/kWh\n"
     ]
    }
   ],
   "source": [
    "#Calculating predicted 20 year cost \n",
    "weekly_operating_cost_in_a_year = weekly_operating_cost_in_dollars * weeks_in_a_year\n",
    "weekly_operating_cost_in_20_years = weekly_operating_cost_in_a_year * 20\n",
    "print(weekly_operating_cost_in_20_years, \"$/kWh\")"
   ]
  },
  {
   "cell_type": "code",
   "execution_count": 179,
   "id": "1add9a19-0e25-49cc-9326-c2efdcdd8a79",
   "metadata": {},
   "outputs": [
    {
     "name": "stdout",
     "output_type": "stream",
     "text": [
      "189620685370080.0 kwh\n"
     ]
    }
   ],
   "source": [
    "#Calcualte Total Electricity Predication in 20 year\n",
    "\n",
    "total_radiation_in_a_year = radiation[\"radiation\"].sum()\n",
    "total_electricity = total_radiation_in_a_year * 8000\n",
    "efficiency = .2 \n",
    "actual_total_electricity = (total_electricity * efficiency)\n",
    "\n",
    "actual_total_electricity_in_20_years = actual_total_electricity * 20\n",
    "print(actual_total_electricity_in_20_years, \"kwh\")"
   ]
  },
  {
   "cell_type": "code",
   "execution_count": 180,
   "id": "eb10ec59-e23b-47d3-92af-752539c00c25",
   "metadata": {},
   "outputs": [],
   "source": [
    "#Calculate Electricity Expenses in a Year\n",
    "total_annual_energy_consumption_in_MWh = total_annual_energy_consumption #from task 2\n",
    "total_annual_energy_consumption_in_kWh= total_annual_energy_consumption_in_MW * 1000"
   ]
  },
  {
   "cell_type": "code",
   "execution_count": 184,
   "id": "7edeb0b2-ab42-48e2-80ce-469f5fe67844",
   "metadata": {},
   "outputs": [
    {
     "name": "stdout",
     "output_type": "stream",
     "text": [
      "2745600000 kWh\n"
     ]
    }
   ],
   "source": [
    "#Predict Energy expenses in 20 years\n",
    "total_energy_consumption_in_20_years = (total_annual_energy_consumption_in_kW * 20 )\n",
    "print(total_energy_expense_in_20_years, \"kWh\")"
   ]
  },
  {
   "cell_type": "code",
   "execution_count": 185,
   "id": "701e63c0-fd40-4b9f-bf66-ba674e3708db",
   "metadata": {},
   "outputs": [
    {
     "name": "stdout",
     "output_type": "stream",
     "text": [
      "189617939770080.0 kwh\n"
     ]
    }
   ],
   "source": [
    "#Subrract Procution in 20 years - Energy Used\n",
    "energy_leftover = (actual_total_electricity_in_20_years - total_energy_consumption_in_20_years)\n",
    "print(energy_leftover, \"kwh\" )"
   ]
  },
  {
   "cell_type": "code",
   "execution_count": 187,
   "id": "bfa17e42-2ece-4e9d-99c2-f9a5641e1a3a",
   "metadata": {},
   "outputs": [
    {
     "data": {
      "text/html": [
       "<div>\n",
       "<style scoped>\n",
       "    .dataframe tbody tr th:only-of-type {\n",
       "        vertical-align: middle;\n",
       "    }\n",
       "\n",
       "    .dataframe tbody tr th {\n",
       "        vertical-align: top;\n",
       "    }\n",
       "\n",
       "    .dataframe thead th {\n",
       "        text-align: right;\n",
       "    }\n",
       "</style>\n",
       "<table border=\"1\" class=\"dataframe\">\n",
       "  <thead>\n",
       "    <tr style=\"text-align: right;\">\n",
       "      <th></th>\n",
       "      <th>time</th>\n",
       "      <th>radiation</th>\n",
       "      <th>hour_of_day</th>\n",
       "      <th>day_of_week</th>\n",
       "      <th>day_of_year</th>\n",
       "      <th>power_consumption</th>\n",
       "    </tr>\n",
       "  </thead>\n",
       "  <tbody>\n",
       "    <tr>\n",
       "      <th>0</th>\n",
       "      <td>2020-01-01 00:00:00</td>\n",
       "      <td>38890.500</td>\n",
       "      <td>0</td>\n",
       "      <td>2</td>\n",
       "      <td>1</td>\n",
       "      <td>5</td>\n",
       "    </tr>\n",
       "    <tr>\n",
       "      <th>1</th>\n",
       "      <td>2020-01-01 01:00:00</td>\n",
       "      <td>0.125</td>\n",
       "      <td>1</td>\n",
       "      <td>2</td>\n",
       "      <td>1</td>\n",
       "      <td>5</td>\n",
       "    </tr>\n",
       "    <tr>\n",
       "      <th>2</th>\n",
       "      <td>2020-01-01 02:00:00</td>\n",
       "      <td>0.125</td>\n",
       "      <td>2</td>\n",
       "      <td>2</td>\n",
       "      <td>1</td>\n",
       "      <td>5</td>\n",
       "    </tr>\n",
       "    <tr>\n",
       "      <th>3</th>\n",
       "      <td>2020-01-01 03:00:00</td>\n",
       "      <td>0.125</td>\n",
       "      <td>3</td>\n",
       "      <td>2</td>\n",
       "      <td>1</td>\n",
       "      <td>5</td>\n",
       "    </tr>\n",
       "    <tr>\n",
       "      <th>4</th>\n",
       "      <td>2020-01-01 04:00:00</td>\n",
       "      <td>0.125</td>\n",
       "      <td>4</td>\n",
       "      <td>2</td>\n",
       "      <td>1</td>\n",
       "      <td>5</td>\n",
       "    </tr>\n",
       "    <tr>\n",
       "      <th>...</th>\n",
       "      <td>...</td>\n",
       "      <td>...</td>\n",
       "      <td>...</td>\n",
       "      <td>...</td>\n",
       "      <td>...</td>\n",
       "      <td>...</td>\n",
       "    </tr>\n",
       "    <tr>\n",
       "      <th>8779</th>\n",
       "      <td>2020-12-31 19:00:00</td>\n",
       "      <td>349506.620</td>\n",
       "      <td>19</td>\n",
       "      <td>3</td>\n",
       "      <td>366</td>\n",
       "      <td>5</td>\n",
       "    </tr>\n",
       "    <tr>\n",
       "      <th>8780</th>\n",
       "      <td>2020-12-31 20:00:00</td>\n",
       "      <td>284632.880</td>\n",
       "      <td>20</td>\n",
       "      <td>3</td>\n",
       "      <td>366</td>\n",
       "      <td>5</td>\n",
       "    </tr>\n",
       "    <tr>\n",
       "      <th>8781</th>\n",
       "      <td>2020-12-31 21:00:00</td>\n",
       "      <td>355255.620</td>\n",
       "      <td>21</td>\n",
       "      <td>3</td>\n",
       "      <td>366</td>\n",
       "      <td>5</td>\n",
       "    </tr>\n",
       "    <tr>\n",
       "      <th>8782</th>\n",
       "      <td>2020-12-31 22:00:00</td>\n",
       "      <td>314448.880</td>\n",
       "      <td>22</td>\n",
       "      <td>3</td>\n",
       "      <td>366</td>\n",
       "      <td>5</td>\n",
       "    </tr>\n",
       "    <tr>\n",
       "      <th>8783</th>\n",
       "      <td>2020-12-31 23:00:00</td>\n",
       "      <td>128789.375</td>\n",
       "      <td>23</td>\n",
       "      <td>3</td>\n",
       "      <td>366</td>\n",
       "      <td>5</td>\n",
       "    </tr>\n",
       "  </tbody>\n",
       "</table>\n",
       "<p>8784 rows × 6 columns</p>\n",
       "</div>"
      ],
      "text/plain": [
       "                    time   radiation  hour_of_day  day_of_week  day_of_year  \\\n",
       "0    2020-01-01 00:00:00   38890.500            0            2            1   \n",
       "1    2020-01-01 01:00:00       0.125            1            2            1   \n",
       "2    2020-01-01 02:00:00       0.125            2            2            1   \n",
       "3    2020-01-01 03:00:00       0.125            3            2            1   \n",
       "4    2020-01-01 04:00:00       0.125            4            2            1   \n",
       "...                  ...         ...          ...          ...          ...   \n",
       "8779 2020-12-31 19:00:00  349506.620           19            3          366   \n",
       "8780 2020-12-31 20:00:00  284632.880           20            3          366   \n",
       "8781 2020-12-31 21:00:00  355255.620           21            3          366   \n",
       "8782 2020-12-31 22:00:00  314448.880           22            3          366   \n",
       "8783 2020-12-31 23:00:00  128789.375           23            3          366   \n",
       "\n",
       "     power_consumption  \n",
       "0                    5  \n",
       "1                    5  \n",
       "2                    5  \n",
       "3                    5  \n",
       "4                    5  \n",
       "...                ...  \n",
       "8779                 5  \n",
       "8780                 5  \n",
       "8781                 5  \n",
       "8782                 5  \n",
       "8783                 5  \n",
       "\n",
       "[8784 rows x 6 columns]"
      ]
     },
     "execution_count": 187,
     "metadata": {},
     "output_type": "execute_result"
    }
   ],
   "source": [
    "def calc_power_consumption(day_of_week, hour_of_day):\n",
    "    if day_of_week <= 4:\n",
    "        if 10 <= hour_of_day <= 18:\n",
    "            power = 50\n",
    "        else:\n",
    "            power = 5\n",
    "    else:\n",
    "        power = 5\n",
    "    return power\n",
    "\n",
    "power_consumption = (pd.NA * radiation[\"day_of_week\"] )  # initialize a blank value; pd.NA is similar to np.nan\n",
    "\n",
    "for i in range(len(power_consumption)):  # go through each row\n",
    "    power_consumption[i] = calc_power_consumption (\n",
    "        radiation[\"day_of_week\"][i], radiation[\"hour_of_day\"][i]\n",
    "    )\n",
    "\n",
    "radiation[\"power_consumption\"] = power_consumption\n",
    "radiation"
   ]
  },
  {
   "cell_type": "code",
   "execution_count": 202,
   "id": "404dbe48-8ca2-4b57-878e-3a9fb57d0b24",
   "metadata": {},
   "outputs": [
    {
     "ename": "ModuleNotFoundError",
     "evalue": "No module named 'hvplot'",
     "output_type": "error",
     "traceback": [
      "\u001b[1;31m---------------------------------------------------------------------------\u001b[0m",
      "\u001b[1;31mModuleNotFoundError\u001b[0m                       Traceback (most recent call last)",
      "\u001b[1;32m<ipython-input-202-fe0dec994dbb>\u001b[0m in \u001b[0;36m<module>\u001b[1;34m\u001b[0m\n\u001b[1;32m----> 1\u001b[1;33m \u001b[1;32mimport\u001b[0m \u001b[0mhvplot\u001b[0m\u001b[1;33m.\u001b[0m\u001b[0mpandas\u001b[0m\u001b[1;33m\u001b[0m\u001b[1;33m\u001b[0m\u001b[0m\n\u001b[0m\u001b[0;32m      2\u001b[0m \u001b[0mdf\u001b[0m\u001b[1;33m=\u001b[0m \u001b[0mpd\u001b[0m\u001b[1;33m.\u001b[0m\u001b[0mDataFrame\u001b[0m\u001b[1;33m\u001b[0m\u001b[1;33m\u001b[0m\u001b[0m\n\u001b[0;32m      3\u001b[0m \u001b[0mpd\u001b[0m\u001b[1;33m.\u001b[0m\u001b[0mgroup\u001b[0m\u001b[1;33m(\u001b[0m\u001b[1;34m'power_consumption'\u001b[0m\u001b[1;33m)\u001b[0m\u001b[1;33m[\u001b[0m\u001b[1;34m'radiation'\u001b[0m\u001b[1;33m]\u001b[0m\u001b[1;33m.\u001b[0m\u001b[0msum\u001b[0m\u001b[1;33m(\u001b[0m\u001b[1;33m)\u001b[0m\u001b[1;33m[\u001b[0m\u001b[1;36m5\u001b[0m\u001b[1;33m]\u001b[0m\u001b[1;33m\u001b[0m\u001b[1;33m\u001b[0m\u001b[0m\n",
      "\u001b[1;31mModuleNotFoundError\u001b[0m: No module named 'hvplot'"
     ]
    }
   ],
   "source": [
    " import hvplot.pandas\n",
    "df= pd.DataFrame\n",
    "df.group('power_consumption')['radiation'].sum()[5]"
   ]
  },
  {
   "cell_type": "code",
   "execution_count": null,
   "id": "484e716c-f54d-46f6-9429-b33e6d823158",
   "metadata": {},
   "outputs": [],
   "source": [
    "opc = 0\n",
    "if power_consumption == 5:\n",
    "    offpeak_radiation = radiation.sum"
   ]
  },
  {
   "cell_type": "code",
   "execution_count": 203,
   "id": "6955e4a0-26d3-48e5-9cba-c75c0db6d42a",
   "metadata": {},
   "outputs": [
    {
     "ename": "AttributeError",
     "evalue": "module 'pandas' has no attribute 'group'",
     "output_type": "error",
     "traceback": [
      "\u001b[1;31m---------------------------------------------------------------------------\u001b[0m",
      "\u001b[1;31mAttributeError\u001b[0m                            Traceback (most recent call last)",
      "\u001b[1;32m<ipython-input-203-7b8e390a6b91>\u001b[0m in \u001b[0;36m<module>\u001b[1;34m\u001b[0m\n\u001b[1;32m----> 1\u001b[1;33m \u001b[0mpd\u001b[0m\u001b[1;33m.\u001b[0m\u001b[0mgroup\u001b[0m\u001b[1;33m(\u001b[0m\u001b[1;34m'power_consumption'\u001b[0m\u001b[1;33m)\u001b[0m\u001b[1;33m[\u001b[0m\u001b[1;34m'radiation'\u001b[0m\u001b[1;33m]\u001b[0m\u001b[1;33m.\u001b[0m\u001b[0msum\u001b[0m\u001b[1;33m(\u001b[0m\u001b[1;33m)\u001b[0m\u001b[1;33m[\u001b[0m\u001b[1;36m5\u001b[0m\u001b[1;33m]\u001b[0m\u001b[1;33m\u001b[0m\u001b[1;33m\u001b[0m\u001b[0m\n\u001b[0m",
      "\u001b[1;32m~\\anaconda3\\lib\\site-packages\\pandas\\__init__.py\u001b[0m in \u001b[0;36m__getattr__\u001b[1;34m(name)\u001b[0m\n\u001b[0;32m    242\u001b[0m         \u001b[1;32mreturn\u001b[0m \u001b[0m_SparseArray\u001b[0m\u001b[1;33m\u001b[0m\u001b[1;33m\u001b[0m\u001b[0m\n\u001b[0;32m    243\u001b[0m \u001b[1;33m\u001b[0m\u001b[0m\n\u001b[1;32m--> 244\u001b[1;33m     \u001b[1;32mraise\u001b[0m \u001b[0mAttributeError\u001b[0m\u001b[1;33m(\u001b[0m\u001b[1;34mf\"module 'pandas' has no attribute '{name}'\"\u001b[0m\u001b[1;33m)\u001b[0m\u001b[1;33m\u001b[0m\u001b[1;33m\u001b[0m\u001b[0m\n\u001b[0m\u001b[0;32m    245\u001b[0m \u001b[1;33m\u001b[0m\u001b[0m\n\u001b[0;32m    246\u001b[0m \u001b[1;33m\u001b[0m\u001b[0m\n",
      "\u001b[1;31mAttributeError\u001b[0m: module 'pandas' has no attribute 'group'"
     ]
    }
   ],
   "source": [
    "pd.group('power_consumption')['radiation'].sum()[5]"
   ]
  },
  {
   "cell_type": "markdown",
   "id": "53c0a513-e944-425b-81b9-78a930d45d23",
   "metadata": {},
   "source": [
    "### Task 6"
   ]
  },
  {
   "cell_type": "code",
   "execution_count": null,
   "id": "0c6d15f9-8eab-46e6-9c8b-4a57399e8d44",
   "metadata": {},
   "outputs": [],
   "source": []
  }
 ],
 "metadata": {
  "kernelspec": {
   "display_name": "Python 3",
   "language": "python",
   "name": "python3"
  },
  "language_info": {
   "codemirror_mode": {
    "name": "ipython",
    "version": 3
   },
   "file_extension": ".py",
   "mimetype": "text/x-python",
   "name": "python",
   "nbconvert_exporter": "python",
   "pygments_lexer": "ipython3",
   "version": "3.8.8"
  }
 },
 "nbformat": 4,
 "nbformat_minor": 5
}
