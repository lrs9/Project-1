{
 "cells": [
  {
   "cell_type": "code",
   "execution_count": 1,
   "id": "3c2e07ad-0df3-438f-b295-24d98bc48fa9",
   "metadata": {},
   "outputs": [],
   "source": [
    "%load_ext lab_black"
   ]
  },
  {
   "cell_type": "markdown",
   "id": "1214875e-fea8-4006-b6d6-483671195a69",
   "metadata": {},
   "source": [
    "# CEVE 101\n",
    "\n",
    "September 21, 2021"
   ]
  },
  {
   "cell_type": "markdown",
   "id": "8c1fadd2-eabb-40e1-af11-cf5213b2abfe",
   "metadata": {},
   "source": [
    "## Today:\n",
    "\n",
    "1. Logistics:\n",
    "    1. https://jdossgollin.github.io/F21-CEVE101/calendar/ (see also: Slack bot)\n",
    "    1. I'm catching up on grading!\n",
    "    1. Reading for Thursday: finish Masters Ch. 7 (mainly pay attention to sections 7.8-7.10). I will post 2-3 practice problems tonight -- should be shorter than PS5\n",
    "1. Generating Renewable Energy (from the Sun)\n",
    "    1. quick recap of reading\n",
    "    1. numpy and matplotlib\n",
    "    1. Solving PS5 with Python!"
   ]
  },
  {
   "cell_type": "markdown",
   "id": "1c5d8343-44b1-4760-a1ff-5dccc5ce2860",
   "metadata": {},
   "source": [
    "## Setup\n",
    "\n",
    "1. Opening Jupyter lab in our preferred folder (recap)\n",
    "1. Creating a notebook\n",
    "\n",
    "## Today's Lesson\n",
    "\n",
    "1. Do your best to follow along as we go through, but don't worry if some things don't work -- I will upload this notebook to Canvas!\n",
    "1. Ask questions!"
   ]
  },
  {
   "cell_type": "markdown",
   "id": "56177242-3623-4fd1-89f3-4d630906e6aa",
   "metadata": {},
   "source": [
    "## Section 7.1\n",
    "\n",
    "This section is about black body radiation and its relationship with temperature.\n",
    "We've already discussed this a bit in the context of climate change, but this is a more quantitative discussion.\n",
    "\n",
    "The key equations are:\n",
    "\n",
    "*Planck's law*:\n",
    "$$\n",
    "E_\\lambda = \\frac{3.78 \\times 10^8}{\\lambda^5 \\left[\\exp \\left( \\frac{14,400}{\\lambda T} \\right) - 1 \\right]}\n",
    "$$\n",
    "*Stefan-Boltzmann law of radiation*:\n",
    "$$\n",
    "\\frac{E}{A} = \\sigma T^4\n",
    "$$\n",
    "and *Wien's displacement rule*:\n",
    "$$\n",
    "\\lambda_\\max (\\mu \\text{m}) = \\frac{2898}{T(K)}\n",
    "$$"
   ]
  },
  {
   "cell_type": "markdown",
   "id": "05a86a03-3484-49e7-94c9-3d208dac9482",
   "metadata": {},
   "source": [
    "### To Cover\n",
    "\n",
    "1. How to turn an equation into a few lines of code\n",
    "1. How to turn an equation into a function\n",
    "1. How to make a plot with matplotlib"
   ]
  },
  {
   "cell_type": "code",
   "execution_count": 24,
   "id": "fbf5ad06-c69e-40ef-ab7d-b4756a438f3e",
   "metadata": {},
   "outputs": [
    {
     "data": {
      "text/plain": [
       "390.0793946112"
      ]
     },
     "execution_count": 24,
     "metadata": {},
     "output_type": "execute_result"
    }
   ],
   "source": [
    "sigma = 5.67e-8  # in units of W/m^2 / K^4\n",
    "T_earth = 273 + 15 # in units of K\n",
    "sigma * (T_earth ** 4) # in units of W/m^2"
   ]
  },
  {
   "cell_type": "markdown",
   "id": "0fbaa58f-8845-4bda-b82d-b546ad4a2990",
   "metadata": {},
   "source": [
    "numpy docstring"
   ]
  },
  {
   "cell_type": "code",
   "execution_count": 5,
   "id": "2f21ba8e-7fad-45df-b273-a9974c7cc025",
   "metadata": {},
   "outputs": [],
   "source": [
    "def stefan_boltzmann_law(temp, area):\n",
    "    \"\"\"\n",
    "    The Stefan-Boltzmann law gives total energy emitted by a black box\n",
    "    Refer to Masters Equation 7.2\n",
    "    \n",
    "    Parameters:\n",
    "    -----------\n",
    "    temp: float\n",
    "        the black body temperature, in degrees K\n",
    "    area: float\n",
    "        the surface area of the black body, in square meters\n",
    "    \n",
    "    Returns:\n",
    "    --------\n",
    "    float\n",
    "        the total emission rate in Watts\n",
    "    \"\"\"\n",
    "    sigma = 5.67e-8  # in units of W/m^2 / K^4\n",
    "    energy = area * sigma * (temp ** 4)\n",
    "    return energy"
   ]
  },
  {
   "cell_type": "code",
   "execution_count": 8,
   "id": "34aee6f8-92cc-4ad3-b464-792d0088a5b6",
   "metadata": {},
   "outputs": [
    {
     "name": "stdout",
     "output_type": "stream",
     "text": [
      "Total energy emitted by the earth is 1.98940491251712e+17 W\n"
     ]
    }
   ],
   "source": [
    "# from the textbook\n",
    "area_earth = 5.1e14 # meters squared\n",
    "energy_earth = stefan_boltzmann_law(temp=T_earth, area=area_earth)\n",
    "print(\"Total energy emitted by the earth is\", energy_earth, \"W\")"
   ]
  },
  {
   "cell_type": "code",
   "execution_count": 9,
   "id": "f66a29f9-a22c-461d-b67a-133275c4910a",
   "metadata": {},
   "outputs": [],
   "source": [
    "import numpy as np"
   ]
  },
  {
   "cell_type": "code",
   "execution_count": 15,
   "id": "a686b1f7-f0b3-4261-a13c-9f427d2f3934",
   "metadata": {},
   "outputs": [],
   "source": [
    "def plank_law(wavelength_micrometers, temperature_kelvin):\n",
    "    \"\"\"\n",
    "    Calculate the black body radiation for a particular wavelength\n",
    "    Refer to Masters 7.1\n",
    "    \n",
    "    Parameters:\n",
    "    -----------\n",
    "    wavelength_micrometers: float\n",
    "        the wavelength, in micrometers\n",
    "    \n",
    "    temperature_kelvin: float\n",
    "        the absolute temperature of the black body, in Kelvin\n",
    "    \n",
    "    Returns:\n",
    "    --------\n",
    "    float\n",
    "        the emissive power per unit area of a black body (W / m2 / micrometer)\n",
    "    \"\"\"\n",
    "    return 3.64e8 / (wavelength_micrometers ** 5 * (np.exp(14_400 / (wavelength_micrometers * temperature_kelvin))))"
   ]
  },
  {
   "cell_type": "code",
   "execution_count": 21,
   "id": "11da7a1c-46a1-4375-9c0f-28749f0466b0",
   "metadata": {},
   "outputs": [],
   "source": [
    "def wien_displacement(temp):\n",
    "    \"\"\"\n",
    "    The wavelength at which the spectrum has a maximum\n",
    "    \n",
    "    Parameters:\n",
    "    -----------\n",
    "    temp: float\n",
    "        the black body temperature\n",
    "        \n",
    "    Returns:\n",
    "    --------\n",
    "    float\n",
    "        the wavelength, in micrometers\n",
    "    \"\"\"\n",
    "    return 2898 / temp"
   ]
  },
  {
   "cell_type": "code",
   "execution_count": 16,
   "id": "f4cedaa5-fbc1-4e7b-9363-dd15cf8b6c60",
   "metadata": {},
   "outputs": [],
   "source": [
    "import matplotlib.pyplot as plt"
   ]
  },
  {
   "cell_type": "code",
   "execution_count": 23,
   "id": "45ea1efc-41c1-4831-9f90-94c5aaa0b99e",
   "metadata": {},
   "outputs": [
    {
     "data": {
      "image/png": "[encoded data removed]",
      "text/plain": [
       "<Figure size 576x360 with 1 Axes>"
      ]
     },
     "metadata": {
      "needs_background": "light"
     },
     "output_type": "display_data"
    }
   ],
   "source": [
    "wavelengths = np.linspace(0.1, 60, 1000)\n",
    "intensities = plank_law(temperature_kelvin=T_earth, wavelength_micrometers=wavelengths)\n",
    "lambda_max = wien_displacement(T_earth)\n",
    "\n",
    "plt.figure(figsize=(8, 5))\n",
    "plt.plot(wavelengths, intensities, color=\"blue\", linewidth=1)\n",
    "plt.axvline(lambda_max, linestyle=\"--\", color=\"gray\", linewidth=0.75)\n",
    "plt.xlabel(\"Wavelength [micrometer]\")\n",
    "plt.ylabel(\"Intensity [W/m2-micrometer]\")\n",
    "plt.title(\"Masters Figure 7.1\")\n",
    "plt.show()"
   ]
  },
  {
   "cell_type": "markdown",
   "id": "734d2709-4b05-446b-a8e6-7ba40d020246",
   "metadata": {},
   "source": [
    "## Section 7.2\n",
    "\n",
    "This section focuses on the Earth's orbit.\n",
    "The main thing that you need to know is that the distance of the Earth depends on the day of year.\n",
    "(This is part of why we have seasons -- the bigger factor is tilt)."
   ]
  },
  {
   "cell_type": "markdown",
   "id": "35aca78b-7f3b-4b84-9bad-21f90ab92807",
   "metadata": {},
   "source": [
    "The key equations are:\n",
    "\n",
    "the Earth's distance from the sun\n",
    "$$\n",
    "d = 1.5 \\times 10^8 \\left\\{ 1 + 0.017 \\sin \\left[ \\frac{360 (n-93)}{365} \\right] \\right\\} \\text{km}\n",
    "$$"
   ]
  },
  {
   "cell_type": "markdown",
   "id": "9af85712-dd85-40d2-ae61-daba93996ed1",
   "metadata": {},
   "source": [
    "### To cover\n",
    "\n",
    "1. getting day of year with the datetime package\n",
    "1. functions that call functions"
   ]
  },
  {
   "cell_type": "code",
   "execution_count": 25,
   "id": "6171bf81-2b19-4241-bbb5-78cc0096f5e6",
   "metadata": {},
   "outputs": [],
   "source": [
    "import datetime"
   ]
  },
  {
   "cell_type": "code",
   "execution_count": 31,
   "id": "1162c9a9-ae11-4092-938b-56d5da8eea82",
   "metadata": {},
   "outputs": [],
   "source": [
    "my_date = datetime.date(2021, 9, 21)"
   ]
  },
  {
   "cell_type": "code",
   "execution_count": 29,
   "id": "ab57e107-e7ea-415a-b5ac-fd8b2b381fc8",
   "metadata": {},
   "outputs": [],
   "source": [
    "def day_of_year(date):\n",
    "    \"\"\"\n",
    "    Get the day number for a `datetime.date` object\n",
    "    \n",
    "    Parameters:\n",
    "    -----------\n",
    "    date:\n",
    "        A day whose day number you want to find\n",
    "        \n",
    "    Returns:\n",
    "    --------\n",
    "    int\n",
    "        the day number\n",
    "    \"\"\"\n",
    "    return date.toordinal() - datetime.date(date.year, 1, 1).toordinal() + 1"
   ]
  },
  {
   "cell_type": "code",
   "execution_count": 35,
   "id": "582d0847-fdd5-4334-81c8-59244016f675",
   "metadata": {},
   "outputs": [
    {
     "data": {
      "text/plain": [
       "264"
      ]
     },
     "execution_count": 35,
     "metadata": {},
     "output_type": "execute_result"
    }
   ],
   "source": [
    "today = datetime.date(2021, 9, 21)\n",
    "day_of_year(today)"
   ]
  },
  {
   "cell_type": "markdown",
   "id": "a57dea8c-55d3-443f-862a-9e20eee2109f",
   "metadata": {},
   "source": [
    "## Section 7.3\n",
    "\n",
    "This section focuses on the angle of the sun at \"solar noon\".\n",
    "We are introduced to the concept of *declination*:\n",
    "$$\n",
    "\\delta \\approx 23.45^\\circ \\sin \\left[ \\frac{360}{365} (n-81) \\right]\n",
    "$$\n",
    "and the *altitude angle* of the sun at solar noon:\n",
    "$$\n",
    "\\beta_N = 90^\\circ - L + \\delta\n",
    "$$"
   ]
  },
  {
   "cell_type": "markdown",
   "id": "bac7ed09-7c2b-4f14-acab-1bcf5fa5197c",
   "metadata": {},
   "source": [
    "### To cover\n",
    "\n",
    "1. Example 7.2"
   ]
  },
  {
   "cell_type": "markdown",
   "id": "a6bacff5-8cad-4059-a621-e9f40f68436a",
   "metadata": {},
   "source": [
    "## Section 7.4\n",
    "\n",
    "We also want to account for the diurnal cycle!\n",
    "Crucially, the sun's position can be described by:\n",
    "\n",
    "1. its altitude angle $\\beta$\n",
    "1. its azimuth angle $\\phi_s$ (the $s$ is for \"sun\")\n"
   ]
  },
  {
   "cell_type": "markdown",
   "id": "d54bfcc5-6060-47cf-9dfe-f58acb3c1c34",
   "metadata": {},
   "source": [
    "These are related by\n",
    "$$\n",
    "\\sin \\beta = \\cos L \\cos \\delta \\cos H + \\sin L \\sin \\delta\n",
    "$$\n",
    "and\n",
    "$$\n",
    "\\sin \\phi_S = \\frac{\\cos \\delta \\sin H}{\\cos \\beta}\n",
    "$$\n",
    "We also learn about the *hour angle*:\n",
    "$$\n",
    "H = \\frac{15^\\circ}{\\text{hour}} \\times (\\text{hours before solar noon})\n",
    "$$\n",
    "last, but not least, we get into the nitty gritty of trig -- recall that there are multiple possible solutions to inverses.\n",
    "Using our reasoning, we see that\n",
    "\n",
    "if $\\cos H \\geq \\frac{\\tan \\delta}{\\tan L}$ then $|\\phi_S| \\leq 90^\\circ$; otherwise $|\\phi_S| > 90^\\circ$."
   ]
  },
  {
   "cell_type": "markdown",
   "id": "cd4d46ac-65e2-4ce2-a01a-3243d3479320",
   "metadata": {},
   "source": [
    "### To cover\n",
    "\n",
    "1. if/else\n",
    "1. list expansions\n",
    "1. Example 7.3"
   ]
  },
  {
   "cell_type": "markdown",
   "id": "b089773a-a6a6-480d-9aaa-aac70152be75",
   "metadata": {},
   "source": [
    "## Problem 7.1\n",
    "\n",
    "Using (7.5), determine the following:\n",
    "\n",
    "1. The date on which the earth will be a maximum distance from the sun\n",
    "1. The date on which it will be a minimum distance from the sun"
   ]
  },
  {
   "cell_type": "code",
   "execution_count": 40,
   "id": "266a6013-b7cc-46e4-9e66-05b97b7de7ef",
   "metadata": {},
   "outputs": [],
   "source": [
    "def sind(x):\n",
    "    return np.sin(np.deg2rad(x))\n",
    "\n",
    "\n",
    "def cosd(x):\n",
    "    return np.cos(np.deg2rad(x))\n",
    "\n",
    "\n",
    "def tand(x):\n",
    "    return np.tan(np.deg2rad(x))\n",
    "\n",
    "\n",
    "def arcsind(x):\n",
    "    return np.rad2deg(np.arcsin(x))\n",
    "\n",
    "\n",
    "def arccosd(x):\n",
    "    return np.rad2deg(np.arccos(x))"
   ]
  },
  {
   "cell_type": "code",
   "execution_count": 41,
   "id": "12665245-fcb1-490b-9d57-fef94cbc37b2",
   "metadata": {},
   "outputs": [],
   "source": [
    "def earth_sun_distance(day_num):\n",
    "    \"\"\"\n",
    "    The Earth's distance from the sun depending on the day number (Masters Eq. 7.5)\n",
    "\n",
    "    Parameters:\n",
    "    -----------\n",
    "    day_num: int\n",
    "        the day number, with January 1 as day 1 and Dec 31 as day 365\n",
    "\n",
    "    Returns:\n",
    "    --------\n",
    "    float\n",
    "        the distance from the sun, in million kilometers\n",
    "    \"\"\"\n",
    "\n",
    "    # convert the angle whose sin we take into radians\n",
    "\n",
    "    d_km = 1.5e8 * (1 + 0.017 * sind(360 * (day_num - 93) / 365))\n",
    "    return d_km / 1_000_000"
   ]
  },
  {
   "cell_type": "code",
   "execution_count": 51,
   "id": "c84bfa4b-d8ce-46d6-8926-8dda2008de69",
   "metadata": {},
   "outputs": [
    {
     "name": "stdout",
     "output_type": "stream",
     "text": [
      "1.7498474984749848 184.25035250352505\n"
     ]
    }
   ],
   "source": [
    "all_days = np.linspace(1, 365, 100_000)\n",
    "distance = earth_sun_distance(all_days)\n",
    "\n",
    "min_day = all_days[np.argmin(distance)]\n",
    "max_day = all_days[np.argmax(distance)]\n",
    "print(min_day, max_day)"
   ]
  },
  {
   "cell_type": "code",
   "execution_count": 50,
   "id": "0c3c5aa4-c000-4e2f-ad54-a51a5839dfc9",
   "metadata": {},
   "outputs": [
    {
     "data": {
      "image/png": "[encoded data removed]",
      "text/plain": [
       "<Figure size 576x360 with 1 Axes>"
      ]
     },
     "metadata": {
      "needs_background": "light"
     },
     "output_type": "display_data"
    }
   ],
   "source": [
    "plt.figure(figsize=(8, 5))\n",
    "plt.plot(all_days, distance, label=\"distance[km]\")\n",
    "plt.axvline(min_day, label=\"Minimum\", color=\"gray\")\n",
    "plt.axvline(max_day, label=\"Maximum\", color=\"green\")\n",
    "plt.legend()\n",
    "plt.show()"
   ]
  },
  {
   "cell_type": "markdown",
   "id": "97c4470c-d779-4ab7-bb45-403a6785bb2d",
   "metadata": {},
   "source": [
    "## Problem 7.4\n",
    "\n",
    "Consider June 21st (the solstice) in Seattle (latitude 47N).\n",
    "1. Use (7.11) to help find the time of day (solar time) at which the sun will be due West.\n",
    "1. At that time, what will the altitude angle of the sun be?\n",
    "1. As a check on the validity of (7.11), use your answers from (a) and (b) in (7.8) and (7.9) to be sure they yield an azimuth angle of 90◦.\n"
   ]
  },
  {
   "cell_type": "code",
   "execution_count": 52,
   "id": "fdf8dc13-e5e3-47bd-a8eb-b64afdc21be4",
   "metadata": {},
   "outputs": [],
   "source": [
    "declination = 23.45\n",
    "latitude = 47"
   ]
  },
  {
   "cell_type": "markdown",
   "id": "fb9b130d-4c30-4d0a-af6f-6f40e696bbf8",
   "metadata": {},
   "source": [
    "$$\n",
    "\\cos H = \\frac{\\tan \\delta}{\\tan L}\n",
    "$$"
   ]
  },
  {
   "cell_type": "code",
   "execution_count": 53,
   "id": "5dcee8f5-16dd-42f6-8106-73c34fd46911",
   "metadata": {},
   "outputs": [
    {
     "data": {
      "text/plain": [
       "0.4045018397622759"
      ]
     },
     "execution_count": 53,
     "metadata": {},
     "output_type": "execute_result"
    }
   ],
   "source": [
    "cos_H = tand(declination) / tand(latitude)\n",
    "cos_H"
   ]
  },
  {
   "cell_type": "code",
   "execution_count": 56,
   "id": "8371dda6-8d9c-4065-ade9-f6afea67a21d",
   "metadata": {},
   "outputs": [
    {
     "data": {
      "text/plain": [
       "-4.4093390915834645"
      ]
     },
     "execution_count": 56,
     "metadata": {},
     "output_type": "execute_result"
    }
   ],
   "source": [
    "time_of_day = -arccosd(cos_H) / 15 # hours\n",
    "time_of_day"
   ]
  },
  {
   "cell_type": "markdown",
   "id": "3ca062e3-1d03-4e1c-9f72-49640fc34185",
   "metadata": {},
   "source": [
    "## Problem 7.5\n",
    "\n",
    "Calculate altitude and azimuth for\n",
    "\n",
    "1. March 1st at 10:00 A.M. in New Orleans, latitude 30N\n",
    "1. July 1st at 5:00 P.M. in San Francisco, latitude 38N\n",
    "1. December 21st at 11 A.M. at latitude 68"
   ]
  },
  {
   "cell_type": "code",
   "execution_count": null,
   "id": "1c1ca1be-daa1-415b-a730-4bb7f785a492",
   "metadata": {},
   "outputs": [],
   "source": []
  },
  {
   "cell_type": "code",
   "execution_count": null,
   "id": "85338b8e-5f78-4f0f-81a1-2d67e5c4fca4",
   "metadata": {},
   "outputs": [],
   "source": []
  }
 ],
 "metadata": {
  "kernelspec": {
   "display_name": "Python 3 (ipykernel)",
   "language": "python",
   "name": "python3"
  },
  "language_info": {
   "codemirror_mode": {
    "name": "ipython",
    "version": 3
   },
   "file_extension": ".py",
   "mimetype": "text/x-python",
   "name": "python",
   "nbconvert_exporter": "python",
   "pygments_lexer": "ipython3",
   "version": "3.8.11"
  }
 },
 "nbformat": 4,
 "nbformat_minor": 5
}
