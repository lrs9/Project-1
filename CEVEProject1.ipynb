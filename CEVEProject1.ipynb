{
 "cells": [
  {
   "cell_type": "markdown",
   "id": "c70d6fb7-d936-4cf2-9773-7936603f4bdf",
   "metadata": {},
   "source": [
    "# Project 1\n",
    "##### By Leticia Souyo, Tina Nguyen, and Saara Orav"
   ]
  },
  {
   "cell_type": "markdown",
   "id": "0b67982a-5aa2-4450-ac6e-6dffb70d8694",
   "metadata": {},
   "source": [
    "### Task 1 "
   ]
  },
  {
   "cell_type": "markdown",
   "id": "1b65ef13-90bc-4d51-8855-dda7b3b0295b",
   "metadata": {},
   "source": [
    "Plot hourly energy consuption for a typical week"
   ]
  },
  {
   "cell_type": "code",
   "execution_count": 11,
   "id": "8f331c7d-a3cb-4e27-91bf-8d6df7f674b5",
   "metadata": {},
   "outputs": [],
   "source": [
    "import numpy as np"
   ]
  },
  {
   "cell_type": "code",
   "execution_count": 7,
   "id": "6feeb706-b976-4fef-9f59-993dedafcb5b",
   "metadata": {},
   "outputs": [
    {
     "data": {
      "text/plain": [
       "168"
      ]
     },
     "execution_count": 7,
     "metadata": {},
     "output_type": "execute_result"
    }
   ],
   "source": [
    "total_hours = 7* 24 # days times hours per day\n",
    "total_hours"
   ]
  },
  {
   "cell_type": "code",
   "execution_count": 49,
   "id": "d41d4e4f-6691-4d72-97a1-ea5872c98763",
   "metadata": {},
   "outputs": [
    {
     "name": "stdout",
     "output_type": "stream",
     "text": [
      "[  1   2   3   4   5   6   7   8   9  10  11  12  13  14  15  16  17  18\n",
      "  19  20  21  22  23  24  25  26  27  28  29  30  31  32  33  34  35  36\n",
      "  37  38  39  40  41  42  43  44  45  46  47  48  49  50  51  52  53  54\n",
      "  55  56  57  58  59  60  61  62  63  64  65  66  67  68  69  70  71  72\n",
      "  73  74  75  76  77  78  79  80  81  82  83  84  85  86  87  88  89  90\n",
      "  91  92  93  94  95  96  97  98  99 100 101 102 103 104 105 106 107 108\n",
      " 109 110 111 112 113 114 115 116 117 118 119 120 121 122 123 124 125 126\n",
      " 127 128 129 130 131 132 133 134 135 136 137 138 139 140 141 142 143 144\n",
      " 145 146 147 148 149 150 151 152 153 154 155 156 157 158 159 160 161 162\n",
      " 163 164 165 166 167 168]\n"
     ]
    }
   ],
   "source": [
    "hours = np.arange(1, total_hours+1)\n",
    "print(hours)"
   ]
  },
  {
   "cell_type": "code",
   "execution_count": 50,
   "id": "24511afe-8c78-4e58-aa91-8e2ec983a04b",
   "metadata": {},
   "outputs": [
    {
     "data": {
      "text/plain": [
       "array([ 1,  2,  3,  4,  5,  6,  7,  8,  9, 10, 11, 12, 13, 14, 15, 16, 17,\n",
       "       18, 19, 20, 21, 22, 23, 24,  1,  2,  3,  4,  5,  6,  7,  8,  9, 10,\n",
       "       11, 12, 13, 14, 15, 16, 17, 18, 19, 20, 21, 22, 23, 24,  1,  2,  3,\n",
       "        4,  5,  6,  7,  8,  9, 10, 11, 12, 13, 14, 15, 16, 17, 18, 19, 20,\n",
       "       21, 22, 23, 24,  1,  2,  3,  4,  5,  6,  7,  8,  9, 10, 11, 12, 13,\n",
       "       14, 15, 16, 17, 18, 19, 20, 21, 22, 23, 24,  1,  2,  3,  4,  5,  6,\n",
       "        7,  8,  9, 10, 11, 12, 13, 14, 15, 16, 17, 18, 19, 20, 21, 22, 23,\n",
       "       24,  1,  2,  3,  4,  5,  6,  7,  8,  9, 10, 11, 12, 13, 14, 15, 16,\n",
       "       17, 18, 19, 20, 21, 22, 23, 24,  1,  2,  3,  4,  5,  6,  7,  8,  9,\n",
       "       10, 11, 12, 13, 14, 15, 16, 17, 18, 19, 20, 21, 22, 23, 24],\n",
       "      dtype=int32)"
      ]
     },
     "execution_count": 50,
     "metadata": {},
     "output_type": "execute_result"
    }
   ],
   "source": [
    "time_of_day = (hours -1) % 24 +1\n",
    "time_of_day"
   ]
  },
  {
   "cell_type": "code",
   "execution_count": 51,
   "id": "35d350b2-abed-49bb-9261-a2e12265d53f",
   "metadata": {},
   "outputs": [
    {
     "data": {
      "text/plain": [
       "array([1., 1., 1., 1., 1., 1., 1., 1., 1., 1., 1., 1., 1., 1., 1., 1., 1.,\n",
       "       1., 1., 1., 1., 1., 1., 1., 2., 2., 2., 2., 2., 2., 2., 2., 2., 2.,\n",
       "       2., 2., 2., 2., 2., 2., 2., 2., 2., 2., 2., 2., 2., 2., 3., 3., 3.,\n",
       "       3., 3., 3., 3., 3., 3., 3., 3., 3., 3., 3., 3., 3., 3., 3., 3., 3.,\n",
       "       3., 3., 3., 3., 4., 4., 4., 4., 4., 4., 4., 4., 4., 4., 4., 4., 4.,\n",
       "       4., 4., 4., 4., 4., 4., 4., 4., 4., 4., 4., 5., 5., 5., 5., 5., 5.,\n",
       "       5., 5., 5., 5., 5., 5., 5., 5., 5., 5., 5., 5., 5., 5., 5., 5., 5.,\n",
       "       5., 6., 6., 6., 6., 6., 6., 6., 6., 6., 6., 6., 6., 6., 6., 6., 6.,\n",
       "       6., 6., 6., 6., 6., 6., 6., 6., 7., 7., 7., 7., 7., 7., 7., 7., 7.,\n",
       "       7., 7., 7., 7., 7., 7., 7., 7., 7., 7., 7., 7., 7., 7., 7.])"
      ]
     },
     "execution_count": 51,
     "metadata": {},
     "output_type": "execute_result"
    }
   ],
   "source": [
    "# First day is Monday\n",
    "day_of_week = np.ceil(hours / 24)\n",
    "day_of_week"
   ]
  },
  {
   "cell_type": "code",
   "execution_count": 6,
   "id": "08ec753f-5b22-4d5f-826e-20425c74cfd9",
   "metadata": {},
   "outputs": [
    {
     "data": {
      "text/plain": [
       "50"
      ]
     },
     "execution_count": 6,
     "metadata": {},
     "output_type": "execute_result"
    }
   ],
   "source": [
    "# Plot hourly energy consuption for a typical week\n",
    "\n",
    "def calc_power_consumption(day_of_week, hour_of_day):\n",
    "    if day_of_week <= 5:\n",
    "        if 9 <= hour_of_day <= 17:\n",
    "            power = 50\n",
    "        else:\n",
    "            power = 5\n",
    "    else:\n",
    "        power = 5\n",
    "    return power\n",
    "\n",
    "#calc_power_consumption(1,15)\n",
    "calc_power_consumption(5,12)\n"
   ]
  },
  {
   "cell_type": "code",
   "execution_count": 7,
   "id": "eb072bd9-826e-4458-b5a7-5cf240430251",
   "metadata": {},
   "outputs": [
    {
     "data": {
      "image/png": "[encoded data removed]",
      "text/plain": [
       "<Figure size 432x288 with 1 Axes>"
      ]
     },
     "metadata": {
      "needs_background": "light"
     },
     "output_type": "display_data"
    }
   ],
   "source": [
    "import matplotlib.pyplot as plt\n",
    "time = []\n",
    "for i in range(0,168): \n",
    "    time.append(i)\n",
    "energy = []\n",
    "for i in range(0,7):\n",
    "    for j in range(0,24):\n",
    "        p = calc_power_consumption(i,j)\n",
    "        energy.append(p)\n",
    "plt.plot(time, energy)\n",
    "plt.xlabel('Time (hr)')\n",
    "plt.ylabel('Hourly Energy Consumption (MW)')\n",
    "plt.title('Energy Consumption Per Hour for a Week')\n",
    "plt.show()"
   ]
  },
  {
   "cell_type": "markdown",
   "id": "b324c4ff-8f2d-400b-8539-9eb088bd8b4d",
   "metadata": {},
   "source": [
    "### Task 2"
   ]
  },
  {
   "cell_type": "markdown",
   "id": "eef98bc1-3174-46a1-b5f4-3fce78dbb40c",
   "metadata": {},
   "source": [
    "Estimate the annual energy consumption of CEVE101 Inc., and the associated expense if they purchase all their electricity from the grid."
   ]
  },
  {
   "cell_type": "code",
   "execution_count": null,
   "id": "8436174c-0ed2-4698-b344-6ceec0704e0d",
   "metadata": {},
   "outputs": [],
   "source": [
    "total_peak_hours_in_yr =total_peak_hours_a_week * 52 "
   ]
  },
  {
   "cell_type": "code",
   "execution_count": 2,
   "id": "548bbc80-1f5c-4b0e-8ea5-b78085c03d27",
   "metadata": {},
   "outputs": [
    {
     "name": "stdout",
     "output_type": "stream",
     "text": [
      "31.2 c/Mwh\n"
     ]
    }
   ],
   "source": [
    "#How to Calculate Total Peak Hours Cost\n",
    "peak_hours_per_day= 8\n",
    "days_of_peak_hours= 5\n",
    "total_peak_hours_a_week = (days_of_peak_hours * peak_hours_per_day)\n",
    "\n",
    "cost_per_peak_hour_in_ckwh = 15\n",
    "cost_per_peak_hour_in_cMWh = cost_per_peak_hour_in_ckwh/ 1000\n",
    "\n",
    "total_wholesale_cost_of_peak_per_week = (total_peak_hours_a_week * cost_per_peak_hour_in_cMWh)\n",
    "\n",
    "weeks_per_year = 52\n",
    "\n",
    "annual_peak_cost = (total_wholesale_cost_of_peak_per_week * weeks_per_year)\n",
    "print(annual_peak_cost, \"c/Mwh\")"
   ]
  },
  {
   "cell_type": "code",
   "execution_count": 5,
   "id": "a0062391-4d5e-4f06-9793-312e84c52a63",
   "metadata": {},
   "outputs": [
    {
     "name": "stdout",
     "output_type": "stream",
     "text": [
      "33.28 c/Mwh\n"
     ]
    }
   ],
   "source": [
    "#How to Calculate Total Non-Peak Hours Cost\n",
    "\n",
    "weekday_days= 5\n",
    "weekend_days= 2\n",
    "nonpeak_hours_per_weekday= (24-peak_hours_per_day)\n",
    "nonpeak_hours_per_weekend_day= 24\n",
    "\n",
    "total_nonpeak_hours_weekdays = ( weekday_days * nonpeak_hours_per_weekday)\n",
    "total_nonpeak_hours_weekend = ( weekend_days * nonpeak_hours_per_weekend_day)\n",
    "\n",
    "total_nonpeak_hours_a_week =(total_nonpeak_hours_weekend + total_nonpeak_hours_weekdays)\n",
    "\n",
    "cost_per_nonpeak_hour_ckwh= 5\n",
    "cost_per_nonpeak_hour_cMwh = cost_per_nonpeak_hour_ckwh/1000 \n",
    "\n",
    "total_wholesale_cost_of_nonpeak_per_week = (total_nonpeak_hours_a_week * cost_per_nonpeak_hour_cMwh)\n",
    "\n",
    "annual_nonpeak_cost = (total_wholesale_cost_of_nonpeak_per_week * weeks_per_year)\n",
    "print(annual_nonpeak_cost,\"c/Mwh\")"
   ]
  },
  {
   "cell_type": "markdown",
   "id": "79323ce0-c0fd-4ae8-a983-34bc1b542a25",
   "metadata": {},
   "source": [
    "### Task 3"
   ]
  },
  {
   "cell_type": "code",
   "execution_count": 1,
   "id": "aaee9c60-cc92-4d2a-b517-c318c9cc036f",
   "metadata": {},
   "outputs": [
    {
     "name": "stdout",
     "output_type": "stream",
     "text": [
      " Volume in drive C is Windows\n",
      " Volume Serial Number is 64F2-0E13\n",
      "\n",
      " Directory of C:\\Users\\souto\n",
      "\n",
      "10/14/2021  03:56 PM    <DIR>          .\n",
      "10/14/2021  03:56 PM    <DIR>          ..\n",
      "08/31/2021  12:24 AM    <DIR>          .conda\n",
      "08/28/2021  09:49 AM                25 .condarc\n",
      "08/28/2021  09:49 AM    <DIR>          .continuum\n",
      "10/12/2021  01:41 PM    <DIR>          .ipynb_checkpoints\n",
      "08/28/2021  02:10 PM    <DIR>          .ipython\n",
      "08/28/2021  03:15 PM    <DIR>          .jupyter\n",
      "09/02/2021  12:14 PM    <DIR>          .matplotlib\n",
      "08/12/2021  07:36 PM    <DIR>          3D Objects\n",
      "08/27/2021  07:49 PM    <DIR>          anaconda3\n",
      "08/23/2021  02:59 PM               151 BullseyeCoverageError.txt\n",
      "08/30/2021  01:50 PM                 0 ceve.py\n",
      "10/14/2021  03:56 PM            31,855 CEVEProject1.ipynb\n",
      "09/02/2021  12:09 PM    <DIR>          data\n",
      "10/04/2021  02:08 PM    <DIR>          Desktop\n",
      "10/04/2021  02:18 PM    <DIR>          Documents\n",
      "10/15/2021  11:32 PM    <DIR>          Downloads\n",
      "08/12/2021  07:42 PM    <DIR>          Dropbox\n",
      "08/12/2021  07:36 PM    <DIR>          Favorites\n",
      "09/02/2021  12:11 PM            49,082 gapminder_all.csv\n",
      "09/02/2021  12:11 PM             8,095 gapminder_gdp_africa.csv\n",
      "09/02/2021  12:11 PM             4,230 gapminder_gdp_americas.csv\n",
      "09/02/2021  12:11 PM             5,103 gapminder_gdp_asia.csv\n",
      "09/02/2021  12:11 PM             4,750 gapminder_gdp_europe.csv\n",
      "09/02/2021  12:11 PM               494 gapminder_gdp_oceania.csv\n",
      "09/21/2021  02:42 PM            75,750 Learning.ipynb\n",
      "08/12/2021  07:36 PM    <DIR>          Links\n",
      "10/12/2021  01:41 PM            10,305 masters-7-14.ipynb\n",
      "08/12/2021  07:36 PM    <DIR>          Music\n",
      "08/12/2021  07:38 PM    <DIR>          OneDrive\n",
      "09/28/2021  01:28 PM    <DIR>          Pictures\n",
      "10/04/2021  02:19 PM    <DIR>          PROJECT 1\n",
      "10/05/2021  04:12 PM            31,147 Project1.ipynb\n",
      "10/04/2021  02:13 PM           246,078 radiation_houston_2020.csv\n",
      "10/07/2021  11:10 AM            46,513 read_data (1).ipynb\n",
      "10/12/2021  01:33 PM            46,513 read_data (2).ipynb\n",
      "08/12/2021  07:36 PM    <DIR>          Saved Games\n",
      "08/12/2021  08:37 PM    <DIR>          Searches\n",
      "10/12/2021  01:42 PM           161,977 storage.ipynb\n",
      "10/12/2021  01:42 PM           162,076 storage-deficits.ipynb\n",
      "10/04/2021  02:12 PM    <DIR>          Untitled Folder\n",
      "10/12/2021  01:31 PM    <DIR>          Untitled Folder 1\n",
      "09/02/2021  11:30 AM                72 Untitled.ipynb\n",
      "08/28/2021  02:08 PM                 0 untitled.txt\n",
      "09/23/2021  02:59 PM             6,190 Untitled1.ipynb\n",
      "10/08/2021  07:44 PM               604 Untitled2.ipynb\n",
      "08/17/2021  08:08 AM    <DIR>          Videos\n",
      "09/10/2021  01:51 PM    <DIR>          Zotero\n",
      "              22 File(s)        891,010 bytes\n",
      "              27 Dir(s)  934,252,400,640 bytes free\n"
     ]
    }
   ],
   "source": [
    "%ls"
   ]
  },
  {
   "cell_type": "code",
   "execution_count": null,
   "id": "a0959e5f-e495-4b64-aa09-e505d4717e47",
   "metadata": {},
   "outputs": [],
   "source": []
  },
  {
   "cell_type": "code",
   "execution_count": null,
   "id": "bb0513ca-f055-4819-b2d4-13bf395ccf0f",
   "metadata": {},
   "outputs": [],
   "source": []
  }
 ],
 "metadata": {
  "kernelspec": {
   "display_name": "Python 3",
   "language": "python",
   "name": "python3"
  },
  "language_info": {
   "codemirror_mode": {
    "name": "ipython",
    "version": 3
   },
   "file_extension": ".py",
   "mimetype": "text/x-python",
   "name": "python",
   "nbconvert_exporter": "python",
   "pygments_lexer": "ipython3",
   "version": "3.8.8"
  }
 },
 "nbformat": 4,
 "nbformat_minor": 5
}
